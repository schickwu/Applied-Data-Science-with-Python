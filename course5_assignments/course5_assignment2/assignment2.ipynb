{
 "cells": [
  {
   "cell_type": "markdown",
   "metadata": {
    "deletable": false,
    "editable": false,
    "nbgrader": {
     "cell_type": "markdown",
     "checksum": "5bfa6795724d75f70c84d3c00d2b1e70",
     "grade": false,
     "grade_id": "cell-bcf6543c144560bd",
     "locked": true,
     "schema_version": 3,
     "solution": false,
     "task": false
    }
   },
   "source": [
    "# Assignment 2 - Network Connectivity\n",
    "\n",
    "In this assignment you will go through the process of importing and analyzing an internal email communication network between employees of a mid-sized manufacturing company. \n",
    "Each node represents an employee and each directed edge between two nodes represents an individual email. The left node represents the sender and the right node represents the recipient. We will also store the timestamp of each email. "
   ]
  },
  {
   "cell_type": "code",
   "execution_count": 3,
   "metadata": {
    "deletable": false,
    "editable": false,
    "nbgrader": {
     "cell_type": "code",
     "checksum": "40cd5d39e43b4cd59854e53a0b5dc998",
     "grade": false,
     "grade_id": "cell-9e91202e381afe24",
     "locked": true,
     "schema_version": 3,
     "solution": false,
     "task": false
    }
   },
   "outputs": [],
   "source": [
    "import networkx as nx\n",
    "\n",
    "#!head assets/email_network.txt"
   ]
  },
  {
   "cell_type": "markdown",
   "metadata": {
    "deletable": false,
    "editable": false,
    "nbgrader": {
     "cell_type": "markdown",
     "checksum": "ff79eb68a30fc6af89c7c32502673381",
     "grade": false,
     "grade_id": "cell-69088792fe9c29ab",
     "locked": true,
     "schema_version": 3,
     "solution": false,
     "task": false
    }
   },
   "source": [
    "### Question 1\n",
    "\n",
    "Using networkx, load up the directed multigraph from `assets/email_network.txt`. Make sure the node names are strings.\n",
    "\n",
    "*This function should return a directed multigraph networkx graph.*"
   ]
  },
  {
   "cell_type": "code",
   "execution_count": 4,
   "metadata": {
    "deletable": false,
    "nbgrader": {
     "cell_type": "code",
     "checksum": "1101b24702e1ba3199cead81dd86aa96",
     "grade": false,
     "grade_id": "cell-60316968695c6f20",
     "locked": false,
     "schema_version": 3,
     "solution": true,
     "task": false
    }
   },
   "outputs": [],
   "source": [
    "def answer_one():\n",
    "    G1 = nx.read_edgelist('assets/email_network.txt',nodetype=int,\n",
    "    data=(('time',float),),delimiter ='\\t',create_using=nx.MultiDiGraph())\n",
    "      #nx.draw(G1, with_labels = True)\n",
    "      #plt.show()\n",
    "        # YOUR CODE HERE\n",
    "    return G1"
   ]
  },
  {
   "cell_type": "code",
   "execution_count": 18,
   "metadata": {
    "deletable": false,
    "editable": false,
    "nbgrader": {
     "cell_type": "code",
     "checksum": "ac7ac871727639eacfa464ac0edc5154",
     "grade": true,
     "grade_id": "cell-483a56c89f9db231",
     "locked": true,
     "points": 1,
     "schema_version": 3,
     "solution": false,
     "task": false
    }
   },
   "outputs": [],
   "source": [
    "ans_one = answer_one()"
   ]
  },
  {
   "cell_type": "markdown",
   "metadata": {
    "deletable": false,
    "editable": false,
    "nbgrader": {
     "cell_type": "markdown",
     "checksum": "1aed479b179f022b43010839565e4996",
     "grade": false,
     "grade_id": "cell-11f1e6ec696e3aa9",
     "locked": true,
     "schema_version": 3,
     "solution": false,
     "task": false
    }
   },
   "source": [
    "### Question 2\n",
    "\n",
    "How many employees are represented in the network?\n",
    "\n",
    "How many `sender`->`recipient` pairs of employees are there in the network such that `sender` sent at least one email to `recipient`? Note that even if a `sender` sent multiple messages to a `recipient`, they should only be counted once. You should **not** exclude cases where an employee sent emails to themselves from this [email] count. \n",
    "\n",
    "*This function should return a tuple with two integers (#employees, # `sender`->`recipient` pairs).*"
   ]
  },
  {
   "cell_type": "code",
   "execution_count": 5,
   "metadata": {
    "deletable": false,
    "nbgrader": {
     "cell_type": "code",
     "checksum": "662810a3dcb753594e02ca98590b1623",
     "grade": false,
     "grade_id": "cell-16a78f22207d9f95",
     "locked": false,
     "schema_version": 3,
     "solution": true,
     "task": false
    }
   },
   "outputs": [],
   "source": [
    "def answer_two():\n",
    "    # YOUR CODE HERE\n",
    "    \n",
    "    #print(len(set(G1.edges())))\n",
    "    #print(G1.edges.data())\n",
    "    G1 = ans_one\n",
    "    return G1.number_of_nodes(),len(set(G1.edges()))"
   ]
  },
  {
   "cell_type": "code",
   "execution_count": 19,
   "metadata": {
    "deletable": false,
    "editable": false,
    "nbgrader": {
     "cell_type": "code",
     "checksum": "ddf5c3a58fbd1cbcd80e38f2bf077d48",
     "grade": true,
     "grade_id": "cell-5b6391549b076d2b",
     "locked": true,
     "points": 1,
     "schema_version": 3,
     "solution": false,
     "task": false
    }
   },
   "outputs": [],
   "source": [
    "ans_two = answer_two()\n"
   ]
  },
  {
   "cell_type": "markdown",
   "metadata": {
    "deletable": false,
    "editable": false,
    "nbgrader": {
     "cell_type": "markdown",
     "checksum": "775a110305b6e9aa2fb281392edef295",
     "grade": false,
     "grade_id": "cell-760dca5a483f4568",
     "locked": true,
     "schema_version": 3,
     "solution": false,
     "task": false
    }
   },
   "source": [
    "### Question 3\n",
    "\n",
    "* Part 1. Assume that information in this company can only be exchanged through email.\n",
    "\n",
    "    When an employee sends an email to another employee, a communication channel has been created, allowing the sender to provide information to the reciever, but not viceversa. \n",
    "\n",
    "    Based on the emails sent in the data, is it possible for information to go from every employee to every other employee?\n",
    "\n",
    "\n",
    "* Part 2. Now assume that a communication channel established by an email allows information to be exchanged both ways. \n",
    "\n",
    "    Based on the emails sent in the data, is it possible for information to go from every employee to every other employee?\n",
    "\n",
    "\n",
    "*This function should return a tuple of bools (part1, part2).*"
   ]
  },
  {
   "cell_type": "code",
   "execution_count": 6,
   "metadata": {
    "deletable": false,
    "nbgrader": {
     "cell_type": "code",
     "checksum": "88459b15b88d56d06d591a24c2242679",
     "grade": false,
     "grade_id": "cell-606dd37fb2f55358",
     "locked": false,
     "schema_version": 3,
     "solution": true,
     "task": false
    }
   },
   "outputs": [],
   "source": [
    "def answer_three():\n",
    "    # YOUR CODE HERE\n",
    "    G1 = ans_one\n",
    "    print(nx.is_strongly_connected(G1))\n",
    "    print(nx.is_weakly_connected(G1))\n",
    "\n",
    "    \n",
    "    return nx.is_strongly_connected(G1),nx.is_weakly_connected(G1)"
   ]
  },
  {
   "cell_type": "code",
   "execution_count": 20,
   "metadata": {
    "deletable": false,
    "editable": false,
    "nbgrader": {
     "cell_type": "code",
     "checksum": "4788aac112a53b813b71af67be67ca9e",
     "grade": true,
     "grade_id": "cell-82b3f0bc45e2895f",
     "locked": true,
     "points": 1,
     "schema_version": 3,
     "solution": false,
     "task": false
    }
   },
   "outputs": [
    {
     "name": "stdout",
     "output_type": "stream",
     "text": [
      "False\n",
      "True\n"
     ]
    }
   ],
   "source": [
    "ans_three = answer_three()\n"
   ]
  },
  {
   "cell_type": "markdown",
   "metadata": {
    "deletable": false,
    "editable": false,
    "nbgrader": {
     "cell_type": "markdown",
     "checksum": "7c25ee0ca47a08a288af724766a5294f",
     "grade": false,
     "grade_id": "cell-d9b0ca65d16c2ee0",
     "locked": true,
     "schema_version": 3,
     "solution": false,
     "task": false
    }
   },
   "source": [
    "### Question 4\n",
    "\n",
    "How many nodes are in the largest weakly connected component of the graph?\n",
    "\n",
    "*This function should return an int.*"
   ]
  },
  {
   "cell_type": "code",
   "execution_count": 7,
   "metadata": {
    "deletable": false,
    "nbgrader": {
     "cell_type": "code",
     "checksum": "4cf514895a205644e3d580ea16e86aba",
     "grade": false,
     "grade_id": "cell-39196f4c27b35534",
     "locked": false,
     "schema_version": 3,
     "solution": true,
     "task": false
    }
   },
   "outputs": [],
   "source": [
    "def answer_four():\n",
    "    # YOUR CODE HERE\n",
    "    G1 = ans_one\n",
    "    length = 0\n",
    "    components =nx.weakly_connected_components(G1) \n",
    "    for i in components:\n",
    "        if length < len(i):\n",
    "            length = len(i)\n",
    "\n",
    "    return length"
   ]
  },
  {
   "cell_type": "code",
   "execution_count": 21,
   "metadata": {
    "deletable": false,
    "editable": false,
    "nbgrader": {
     "cell_type": "code",
     "checksum": "12b2e05c4fee3be94595b750cd938701",
     "grade": true,
     "grade_id": "cell-2b1b7b06ecfa751d",
     "locked": true,
     "points": 1,
     "schema_version": 3,
     "solution": false,
     "task": false
    }
   },
   "outputs": [],
   "source": [
    "ans_four = answer_four()"
   ]
  },
  {
   "cell_type": "markdown",
   "metadata": {
    "deletable": false,
    "editable": false,
    "nbgrader": {
     "cell_type": "markdown",
     "checksum": "cc1c0bdcb9dd2c876d85137d70e1aab1",
     "grade": false,
     "grade_id": "cell-1b5fcc6fe87939a4",
     "locked": true,
     "schema_version": 3,
     "solution": false,
     "task": false
    }
   },
   "source": [
    "### Question 5\n",
    "\n",
    "How many nodes are in the largest strongly connected component?\n",
    "\n",
    "*This function should return an int*"
   ]
  },
  {
   "cell_type": "code",
   "execution_count": 8,
   "metadata": {
    "deletable": false,
    "nbgrader": {
     "cell_type": "code",
     "checksum": "2accc10e029b68b86157ee3e7630483a",
     "grade": false,
     "grade_id": "cell-879d17a9db5c3790",
     "locked": false,
     "schema_version": 3,
     "solution": true,
     "task": false
    }
   },
   "outputs": [],
   "source": [
    "def answer_five():\n",
    "    # YOUR CODE HERE\n",
    "    G1 = ans_one\n",
    "    length = 0\n",
    "    components =nx.strongly_connected_components(G1) \n",
    "    for i in components:\n",
    "        if length < len(i):\n",
    "            length = len(i)\n",
    "    return length"
   ]
  },
  {
   "cell_type": "code",
   "execution_count": 22,
   "metadata": {
    "deletable": false,
    "editable": false,
    "nbgrader": {
     "cell_type": "code",
     "checksum": "f23781489340663ca5f29018a84eba94",
     "grade": true,
     "grade_id": "cell-b0524f7dc1fbdec4",
     "locked": true,
     "points": 1,
     "schema_version": 3,
     "solution": false,
     "task": false
    }
   },
   "outputs": [],
   "source": [
    "ans_five = answer_five()\n"
   ]
  },
  {
   "cell_type": "markdown",
   "metadata": {
    "deletable": false,
    "editable": false,
    "nbgrader": {
     "cell_type": "markdown",
     "checksum": "128ce743a125fe1aa44ef059e9c3a580",
     "grade": false,
     "grade_id": "cell-0e161383c4c5f256",
     "locked": true,
     "schema_version": 3,
     "solution": false,
     "task": false
    }
   },
   "source": [
    "### Question 6\n",
    "\n",
    "Using the NetworkX functions `strongly_connected_components` and `subgraph`, find the subgraph of nodes in the largest strongly connected component. \n",
    "Call this graph G_sc.\n",
    "\n",
    "*This function should return a networkx MultiDiGraph named G_sc.*"
   ]
  },
  {
   "cell_type": "code",
   "execution_count": 14,
   "metadata": {
    "deletable": false,
    "nbgrader": {
     "cell_type": "code",
     "checksum": "07492ff7a3eddcbf2d61c4827c12bcf9",
     "grade": false,
     "grade_id": "cell-a81e6f88ef84578c",
     "locked": false,
     "schema_version": 3,
     "solution": true,
     "task": false
    }
   },
   "outputs": [],
   "source": [
    "def answer_six():\n",
    "        # YOUR CODE HERE\n",
    "    G1 = ans_one\n",
    "    components =nx.strongly_connected_components(G1) \n",
    "    nodes = [c for c in sorted(nx.strongly_connected_components(G1), key=len, reverse=True)]\n",
    "    print(nodes[0])\n",
    "    common_nodes = set(nodes[0])\n",
    "    print(common_nodes)\n",
    "    G_sc = G1.subgraph(common_nodes)\n",
    "    return G_sc"
   ]
  },
  {
   "cell_type": "code",
   "execution_count": 23,
   "metadata": {
    "deletable": false,
    "editable": false,
    "nbgrader": {
     "cell_type": "code",
     "checksum": "e666c1aaf1826714318af13203393e81",
     "grade": true,
     "grade_id": "cell-cf148ef273b3b19c",
     "locked": true,
     "points": 1,
     "schema_version": 3,
     "solution": false,
     "task": false
    }
   },
   "outputs": [
    {
     "name": "stdout",
     "output_type": "stream",
     "text": [
      "{1, 2, 3, 4, 5, 6, 7, 8, 9, 10, 11, 12, 13, 14, 15, 16, 17, 18, 19, 20, 21, 22, 23, 24, 25, 26, 27, 28, 29, 30, 31, 32, 33, 34, 35, 36, 37, 38, 39, 40, 41, 42, 43, 44, 45, 46, 47, 48, 49, 50, 51, 52, 53, 54, 55, 56, 57, 58, 59, 60, 61, 62, 63, 64, 65, 66, 67, 68, 69, 70, 71, 72, 73, 74, 75, 76, 77, 78, 79, 80, 81, 82, 83, 84, 85, 86, 87, 88, 89, 90, 91, 92, 93, 94, 95, 96, 97, 98, 99, 100, 101, 103, 104, 105, 106, 107, 108, 109, 110, 111, 112, 113, 115, 117, 118, 119, 120, 121, 122, 123, 124, 128, 129, 134, 149, 151}\n",
      "{1, 2, 3, 4, 5, 6, 7, 8, 9, 10, 11, 12, 13, 14, 15, 16, 17, 18, 19, 20, 21, 22, 23, 24, 25, 26, 27, 28, 29, 30, 31, 32, 33, 34, 35, 36, 37, 38, 39, 40, 41, 42, 43, 44, 45, 46, 47, 48, 49, 50, 51, 52, 53, 54, 55, 56, 57, 58, 59, 60, 61, 62, 63, 64, 65, 66, 67, 68, 69, 70, 71, 72, 73, 74, 75, 76, 77, 78, 79, 80, 81, 82, 83, 84, 85, 86, 87, 88, 89, 90, 91, 92, 93, 94, 95, 96, 97, 98, 99, 100, 101, 103, 104, 105, 106, 107, 108, 109, 110, 111, 112, 113, 115, 117, 118, 119, 120, 121, 122, 123, 124, 128, 129, 134, 149, 151}\n"
     ]
    }
   ],
   "source": [
    "ans_six = answer_six()\n",
    "assert type(ans_six) == nx.MultiDiGraph , \"Your return type should be a MultiDiGraph object\"\n"
   ]
  },
  {
   "cell_type": "markdown",
   "metadata": {
    "deletable": false,
    "editable": false,
    "nbgrader": {
     "cell_type": "markdown",
     "checksum": "845d7583667a0e39c27767bb1b4a86e9",
     "grade": false,
     "grade_id": "cell-9387495324d723ab",
     "locked": true,
     "schema_version": 3,
     "solution": false,
     "task": false
    }
   },
   "source": [
    "### Question 7\n",
    "\n",
    "What is the average distance between nodes in G_sc?\n",
    "\n",
    "*This function should return a float.*"
   ]
  },
  {
   "cell_type": "code",
   "execution_count": 10,
   "metadata": {
    "deletable": false,
    "nbgrader": {
     "cell_type": "code",
     "checksum": "8631976ef4da84e8717fb0208ec2d22e",
     "grade": false,
     "grade_id": "cell-1a3075039b3c2c0b",
     "locked": false,
     "schema_version": 3,
     "solution": true,
     "task": false
    }
   },
   "outputs": [],
   "source": [
    "def answer_seven():\n",
    "    # YOUR CODE HERE\n",
    "    G1 = ans_six\n",
    "    return nx.average_shortest_path_length(G1)"
   ]
  },
  {
   "cell_type": "code",
   "execution_count": 24,
   "metadata": {
    "deletable": false,
    "editable": false,
    "nbgrader": {
     "cell_type": "code",
     "checksum": "6677cc4f43e9d111105b44bb7cdf8609",
     "grade": true,
     "grade_id": "cell-5b374fdd48f37e02",
     "locked": true,
     "points": 1,
     "schema_version": 3,
     "solution": false,
     "task": false
    }
   },
   "outputs": [],
   "source": [
    "ans_seven = answer_seven()\n"
   ]
  },
  {
   "cell_type": "markdown",
   "metadata": {
    "deletable": false,
    "editable": false,
    "nbgrader": {
     "cell_type": "markdown",
     "checksum": "fa6cadc7a93e03a6a254d4050f8fab2a",
     "grade": false,
     "grade_id": "cell-a304dbc2b7d1b98e",
     "locked": true,
     "schema_version": 3,
     "solution": false,
     "task": false
    }
   },
   "source": [
    "### Question 8\n",
    "\n",
    "What is the largest possible distance between two employees in G_sc?\n",
    "\n",
    "*This function should return an int.*"
   ]
  },
  {
   "cell_type": "code",
   "execution_count": 11,
   "metadata": {
    "deletable": false,
    "nbgrader": {
     "cell_type": "code",
     "checksum": "a78edcff07c4635e0713d76acbd36d2c",
     "grade": false,
     "grade_id": "cell-4fbb8d34d00f675c",
     "locked": false,
     "schema_version": 3,
     "solution": true,
     "task": false
    }
   },
   "outputs": [],
   "source": [
    "def answer_eight():\n",
    "    G1 = ans_six\n",
    "\n",
    "\n",
    "    return nx.diameter(G1)"
   ]
  },
  {
   "cell_type": "code",
   "execution_count": 25,
   "metadata": {
    "deletable": false,
    "editable": false,
    "nbgrader": {
     "cell_type": "code",
     "checksum": "fa86a0206feb865d2c6d7406c70ee95d",
     "grade": true,
     "grade_id": "cell-c5714787854ef644",
     "locked": true,
     "points": 1,
     "schema_version": 3,
     "solution": false,
     "task": false
    }
   },
   "outputs": [],
   "source": [
    "ans_eight = answer_eight()\n"
   ]
  },
  {
   "cell_type": "markdown",
   "metadata": {
    "deletable": false,
    "editable": false,
    "nbgrader": {
     "cell_type": "markdown",
     "checksum": "a139709cb2fd06ab0c9b63bf6d2b70d6",
     "grade": false,
     "grade_id": "cell-1c5b2a30c314c4ed",
     "locked": true,
     "schema_version": 3,
     "solution": false,
     "task": false
    }
   },
   "source": [
    "### Question 9\n",
    "\n",
    "What is the set of nodes in G_sc with eccentricity equal to the diameter?\n",
    "\n",
    "*This function should return a set of the node(s).*"
   ]
  },
  {
   "cell_type": "code",
   "execution_count": 35,
   "metadata": {
    "deletable": false,
    "nbgrader": {
     "cell_type": "code",
     "checksum": "35f309003a3d44dcc3f8617731106c80",
     "grade": false,
     "grade_id": "cell-bcfab850744277ed",
     "locked": false,
     "schema_version": 3,
     "solution": true,
     "task": false
    }
   },
   "outputs": [],
   "source": [
    "def answer_nine():\n",
    "    # YOUR CODE HERE\n",
    "    G1 = ans_six\n",
    "    aaa =nx.eccentricity(G1)\n",
    "    nodes = [str(c)  for c in aaa if aaa[c]==nx.diameter(G1)]\n",
    "    print(nodes)\n",
    "    return set(nodes)"
   ]
  },
  {
   "cell_type": "code",
   "execution_count": 36,
   "metadata": {
    "deletable": false,
    "editable": false,
    "nbgrader": {
     "cell_type": "code",
     "checksum": "ca8982a55c3502ea5a1de56ba08392f2",
     "grade": true,
     "grade_id": "cell-77c9ca0b94df3d6f",
     "locked": true,
     "points": 1,
     "schema_version": 3,
     "solution": false,
     "task": false
    }
   },
   "outputs": [
    {
     "name": "stdout",
     "output_type": "stream",
     "text": [
      "['97', '129', '134']\n"
     ]
    }
   ],
   "source": [
    "ans_nine = answer_nine()\n",
    "assert type(ans_nine) == set, \"Student answer must return a set\""
   ]
  },
  {
   "cell_type": "markdown",
   "metadata": {
    "deletable": false,
    "editable": false,
    "nbgrader": {
     "cell_type": "markdown",
     "checksum": "f35267d67af1d1cf6ed49fd791bcc0d6",
     "grade": false,
     "grade_id": "cell-0981d0d45c6b9300",
     "locked": true,
     "schema_version": 3,
     "solution": false,
     "task": false
    }
   },
   "source": [
    "### Question 10\n",
    "\n",
    "What is the set of node(s) in G_sc with eccentricity equal to the radius?\n",
    "\n",
    "*This function should return a set of the node(s).*"
   ]
  },
  {
   "cell_type": "code",
   "execution_count": 29,
   "metadata": {
    "deletable": false,
    "nbgrader": {
     "cell_type": "code",
     "checksum": "2c38cb64d3e516dcc50440016c8cb052",
     "grade": false,
     "grade_id": "cell-fd3d43ea37da03f7",
     "locked": false,
     "schema_version": 3,
     "solution": true,
     "task": false
    }
   },
   "outputs": [],
   "source": [
    "def answer_ten():\n",
    "    # YOUR CODE HERE\n",
    "    G1 = ans_six\n",
    "    aaa =nx.eccentricity(G1)\n",
    "    length = nx.radius(G1) \n",
    "    print(length)\n",
    "    nodes = [str(c)  for c in aaa if aaa[c]==length]\n",
    "    print(nodes)\n",
    "    return set(nodes)"
   ]
  },
  {
   "cell_type": "code",
   "execution_count": 30,
   "metadata": {
    "deletable": false,
    "editable": false,
    "nbgrader": {
     "cell_type": "code",
     "checksum": "ded9fe8dfa11fcf35d1a24b79b05eb84",
     "grade": true,
     "grade_id": "cell-bfd2ee304bc25264",
     "locked": true,
     "points": 1,
     "schema_version": 3,
     "solution": false,
     "task": false
    }
   },
   "outputs": [
    {
     "name": "stdout",
     "output_type": "stream",
     "text": [
      "1\n",
      "[38]\n"
     ]
    }
   ],
   "source": [
    "ans_ten = answer_ten()\n",
    "assert type(ans_ten) == set, \"Student answer must return a set\""
   ]
  },
  {
   "cell_type": "markdown",
   "metadata": {
    "deletable": false,
    "editable": false,
    "nbgrader": {
     "cell_type": "markdown",
     "checksum": "fdc93cbd0d6507be08ae4a08c63601b3",
     "grade": false,
     "grade_id": "cell-6f67b3e8a401bd59",
     "locked": true,
     "schema_version": 3,
     "solution": false,
     "task": false
    }
   },
   "source": [
    "### Question 11\n",
    "\n",
    "Which node in G_sc has the most shortest paths to other nodes whose distance equal the diameter of G_sc?\n",
    "\n",
    "\n",
    "For the node with the most such shortest paths, how many of these paths are there?\n",
    "\n",
    "\n",
    "*This function should return a tuple (name of node, number of paths).*"
   ]
  },
  {
   "cell_type": "code",
   "execution_count": 53,
   "metadata": {
    "deletable": false,
    "nbgrader": {
     "cell_type": "code",
     "checksum": "e6d4266def52169ee18f4e2599db3f63",
     "grade": false,
     "grade_id": "cell-c40858baf3d92139",
     "locked": false,
     "schema_version": 3,
     "solution": true,
     "task": false
    }
   },
   "outputs": [],
   "source": [
    "def answer_eleven():\n",
    "    # YOUR CODE HERE\n",
    "    #print(nx.all_shortest_paths(set0))\n",
    "    #short_paths = nx.shortest_path(G1,set0)\n",
    "    #print(G1.nodes())\n",
    "    G1,set0 = ans_six,ans_nine\n",
    "    source = [int(c) for c in set0]\n",
    "    #print(source)\n",
    "    #source = 97\n",
    "    result = [(c,nx.shortest_path(G1, source=c)) for c in source]\n",
    "    nodes = [( source[i],j) for i in range(len(set0)) for j in G1.nodes() if len(result[i][1][j]) == 4]\n",
    "    counts = {value: sum(1 for tup in nodes if tup[0] == value) for value in set(tup[0] for tup in nodes)}\n",
    "    print(counts)\n",
    "\n",
    "\n",
    "    return str(97),counts[97]"
   ]
  },
  {
   "cell_type": "code",
   "execution_count": 54,
   "metadata": {
    "deletable": false,
    "editable": false,
    "nbgrader": {
     "cell_type": "code",
     "checksum": "100df6e43868a8b5ae84b005e7323d4b",
     "grade": true,
     "grade_id": "cell-f79b06650f61cf37",
     "locked": true,
     "points": 1,
     "schema_version": 3,
     "solution": false,
     "task": false
    }
   },
   "outputs": [
    {
     "name": "stdout",
     "output_type": "stream",
     "text": [
      "{97: 63, 129: 1, 134: 2}\n"
     ]
    }
   ],
   "source": [
    "ans_eleven = answer_eleven()\n",
    "assert type(ans_eleven) == tuple, \"Student answer must be a tuple\""
   ]
  },
  {
   "cell_type": "markdown",
   "metadata": {
    "deletable": false,
    "editable": false,
    "nbgrader": {
     "cell_type": "markdown",
     "checksum": "d4ea9ad10fd48750b392e3afe72d8a31",
     "grade": false,
     "grade_id": "cell-50328c3bc155d0d3",
     "locked": true,
     "schema_version": 3,
     "solution": false,
     "task": false
    }
   },
   "source": [
    "### Question 12\n",
    "\n",
    "Suppose you want to prevent communication flow from the node that you found in question 11 to node 10. What is the smallest number of nodes you would need to remove from the graph (you're not allowed to remove the node from the previous question or 10)? \n",
    "\n",
    "*This function should return an integer.*"
   ]
  },
  {
   "cell_type": "code",
   "execution_count": 39,
   "metadata": {
    "deletable": false,
    "nbgrader": {
     "cell_type": "code",
     "checksum": "e58c4883b3f3d4ccd6101b8a30b09401",
     "grade": false,
     "grade_id": "cell-a4606db8971dcbba",
     "locked": false,
     "schema_version": 3,
     "solution": true,
     "task": false
    }
   },
   "outputs": [],
   "source": [
    "def answer_twelve():\n",
    "    # YOUR CODE HERE\n",
    "    G_sc = ans_six\n",
    "    print(nx.node_connectivity(G_sc,97,10))\n",
    "\n",
    "\n",
    "    return nx.node_connectivity(G_sc,97,10)"
   ]
  },
  {
   "cell_type": "code",
   "execution_count": 40,
   "metadata": {
    "deletable": false,
    "editable": false,
    "nbgrader": {
     "cell_type": "code",
     "checksum": "e37fc4b93c7e19b0cb9ad2f021a24d89",
     "grade": true,
     "grade_id": "cell-509cfa9f4136124d",
     "locked": true,
     "points": 1,
     "schema_version": 3,
     "solution": false,
     "task": false
    }
   },
   "outputs": [
    {
     "name": "stdout",
     "output_type": "stream",
     "text": [
      "1\n"
     ]
    }
   ],
   "source": [
    "ans_twelve = answer_twelve()\n"
   ]
  },
  {
   "cell_type": "markdown",
   "metadata": {
    "deletable": false,
    "editable": false,
    "nbgrader": {
     "cell_type": "markdown",
     "checksum": "3dabb73f1ae896491ba33eac36f9ae70",
     "grade": false,
     "grade_id": "cell-f1b5f4e151b08d99",
     "locked": true,
     "schema_version": 3,
     "solution": false,
     "task": false
    }
   },
   "source": [
    "### Question 13\n",
    "\n",
    "Convert the graph G_sc into an undirected graph by removing the direction of the edges of G_sc. Call the new graph G_un. \n",
    "\n",
    "\n",
    "*This function should return a networkx Graph.*"
   ]
  },
  {
   "cell_type": "code",
   "execution_count": 41,
   "metadata": {
    "deletable": false,
    "nbgrader": {
     "cell_type": "code",
     "checksum": "54b64d828321e01f4e2d293e5e769dbb",
     "grade": false,
     "grade_id": "cell-612b40425f0851e8",
     "locked": false,
     "schema_version": 3,
     "solution": true,
     "task": false
    }
   },
   "outputs": [],
   "source": [
    "def answer_thirteen():\n",
    "    # YOUR CODE HERE\n",
    "\n",
    "    G_sc = ans_six\n",
    "    G_un = G_sc.to_undirected()\n",
    "    print(type(G_un))\n",
    "    return nx.Graph(G_un)"
   ]
  },
  {
   "cell_type": "code",
   "execution_count": 42,
   "metadata": {
    "deletable": false,
    "editable": false,
    "nbgrader": {
     "cell_type": "code",
     "checksum": "ffa1735019324223ae2528d9617aeb38",
     "grade": true,
     "grade_id": "cell-d1c0627a327cd774",
     "locked": true,
     "points": 1,
     "schema_version": 3,
     "solution": false,
     "task": false
    }
   },
   "outputs": [
    {
     "name": "stdout",
     "output_type": "stream",
     "text": [
      "<class 'networkx.classes.multigraph.MultiGraph'>\n"
     ]
    }
   ],
   "source": [
    "ans_thirteen = answer_thirteen()\n",
    "assert type(ans_thirteen) == nx.Graph , \"Your return type should be a Graph object\"\n"
   ]
  },
  {
   "cell_type": "markdown",
   "metadata": {
    "deletable": false,
    "editable": false,
    "nbgrader": {
     "cell_type": "markdown",
     "checksum": "c432a63600363bd5fdeccb8ee1978021",
     "grade": false,
     "grade_id": "cell-ad5732399e4673ff",
     "locked": true,
     "schema_version": 3,
     "solution": false,
     "task": false
    }
   },
   "source": [
    "### Question 14\n",
    "\n",
    "What is the transitivity and average clustering coefficient of graph G_un?\n",
    "\n",
    "*This function should return a tuple (transitivity, avg clustering).*     \n",
    "*Note: DO NOT round up your answer.*"
   ]
  },
  {
   "cell_type": "code",
   "execution_count": 43,
   "metadata": {
    "deletable": false,
    "nbgrader": {
     "cell_type": "code",
     "checksum": "7fe3b9dbdfdc525e139239587b5312d7",
     "grade": false,
     "grade_id": "cell-63e48b1eed1a1fb8",
     "locked": false,
     "schema_version": 3,
     "solution": true,
     "task": false
    }
   },
   "outputs": [],
   "source": [
    "def answer_fourteen():\n",
    "    # YOUR CODE HERE\n",
    "    G_un = ans_thirteen\n",
    "    print(nx.transitivity(G_un),nx.average_clustering(G_un))\n",
    "\n",
    "\n",
    "\n",
    "\n",
    "    return nx.transitivity(G_un),nx.average_clustering(G_un)"
   ]
  },
  {
   "cell_type": "code",
   "execution_count": 44,
   "metadata": {
    "deletable": false,
    "editable": false,
    "nbgrader": {
     "cell_type": "code",
     "checksum": "f3c37528892737578632bec42aefb80d",
     "grade": true,
     "grade_id": "cell-41dda91202f58e7e",
     "locked": true,
     "points": 1,
     "schema_version": 3,
     "solution": false,
     "task": false
    }
   },
   "outputs": [
    {
     "name": "stdout",
     "output_type": "stream",
     "text": [
      "0.570111160700385 0.6975272437231418\n"
     ]
    }
   ],
   "source": [
    "ans_fourteen = answer_fourteen()\n",
    "assert type(ans_fourteen) == tuple, \"Student answer must be a tuple\"\n"
   ]
  },
  {
   "cell_type": "code",
   "execution_count": null,
   "metadata": {},
   "outputs": [],
   "source": []
  }
 ],
 "metadata": {
  "kernelspec": {
   "display_name": "Python 3 (ipykernel)",
   "language": "python",
   "name": "python3"
  },
  "language_info": {
   "codemirror_mode": {
    "name": "ipython",
    "version": 3
   },
   "file_extension": ".py",
   "mimetype": "text/x-python",
   "name": "python",
   "nbconvert_exporter": "python",
   "pygments_lexer": "ipython3",
   "version": "3.9.13"
  },
  "vscode": {
   "interpreter": {
    "hash": "aee8b7b246df8f9039afb4144a1f6fd8d2ca17a180786b69acc140d282b71a49"
   }
  }
 },
 "nbformat": 4,
 "nbformat_minor": 4
}
