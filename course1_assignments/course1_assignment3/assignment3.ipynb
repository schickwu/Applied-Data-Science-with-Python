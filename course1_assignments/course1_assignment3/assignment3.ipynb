{
 "cells": [
  {
   "cell_type": "markdown",
   "metadata": {
    "deletable": false,
    "editable": false,
    "nbgrader": {
     "cell_type": "markdown",
     "checksum": "ab80976c194c2c1bfebb7f3a12fc4e58",
     "grade": false,
     "grade_id": "cell-018440ed2f1b6a62",
     "locked": true,
     "schema_version": 3,
     "solution": false
    }
   },
   "source": [
    "# Assignment 3\n",
    "All questions are weighted the same in this assignment. This assignment requires more individual learning then the last one did - you are encouraged to check out the [pandas documentation](http://pandas.pydata.org/pandas-docs/stable/) to find functions or methods you might not have used yet, or ask questions on [Stack Overflow](http://stackoverflow.com/) and tag them as pandas and python related. All questions are worth the same number of points except question 1 which is worth 17% of the assignment grade.\n",
    "\n",
    "**Note**: Questions 2-13 rely on your question 1 answer."
   ]
  },
  {
   "cell_type": "code",
   "execution_count": 1,
   "metadata": {},
   "outputs": [],
   "source": [
    "import pandas as pd\n",
    "import numpy as np\n",
    "\n",
    "# Filter all warnings. If you would like to see the warnings, please comment the two lines below.\n",
    "import warnings\n",
    "warnings.filterwarnings('ignore')"
   ]
  },
  {
   "cell_type": "markdown",
   "metadata": {
    "deletable": false,
    "editable": false,
    "nbgrader": {
     "cell_type": "markdown",
     "checksum": "2d8c745cdfcb8249a07e18dffb1b94ac",
     "grade": false,
     "grade_id": "cell-7e5190c7ff1f2e42",
     "locked": true,
     "schema_version": 3,
     "solution": false
    }
   },
   "source": [
    "### Question 1\n",
    "Load the energy data from the file `assets/Energy Indicators.xls`, which is a list of indicators of [energy supply and renewable electricity production](assets/Energy%20Indicators.xls) from the [United Nations](http://unstats.un.org/unsd/environment/excel_file_tables/2013/Energy%20Indicators.xls) for the year 2013, and should be put into a DataFrame with the variable name of **Energy**.\n",
    "\n",
    "Keep in mind that this is an Excel file, and not a comma separated values file. Also, make sure to exclude the footer and header information from the datafile. The first two columns are unneccessary, so you should get rid of them, and you should change the column labels so that the columns are:\n",
    "\n",
    "`['Country', 'Energy Supply', 'Energy Supply per Capita', '% Renewable]`\n",
    "\n",
    "Convert `Energy Supply` to gigajoules (**Note: there are 1,000,000 gigajoules in a petajoule**). For all countries which have missing data (e.g. data with \"...\") make sure this is reflected as `np.NaN` values.\n",
    "\n",
    "Rename the following list of countries (for use in later questions):\n",
    "\n",
    "```\"Republic of Korea\": \"South Korea\",\n",
    "\"United States of America\": \"United States\",\n",
    "\"United Kingdom of Great Britain and Northern Ireland\": \"United Kingdom\",\n",
    "\"China, Hong Kong Special Administrative Region\": \"Hong Kong\"```\n",
    "\n",
    "There are also several countries with parenthesis in their name. Be sure to remove these, e.g. `'Bolivia (Plurinational State of)'` should be `'Bolivia'`. Additionally, there are several countries with Numeric digits in their name. Make sure to remove these as well, e.g. `'Italy9'` should be `'Italy'`. \n",
    "\n",
    "Next, load the GDP data from the file `assets/world_bank.csv`, which is a csv containing countries' GDP from 1960 to 2015 from [World Bank](http://data.worldbank.org/indicator/NY.GDP.MKTP.CD). Call this DataFrame **GDP**. \n",
    "\n",
    "Make sure to skip the header, and rename the following list of countries:\n",
    "\n",
    "```\"Korea, Rep.\": \"South Korea\", \n",
    "\"Iran, Islamic Rep.\": \"Iran\",\n",
    "\"Hong Kong SAR, China\": \"Hong Kong\"```\n",
    "\n",
    "Finally, load the [Sciamgo Journal and Country Rank data for Energy Engineering and Power Technology](http://www.scimagojr.com/countryrank.php?category=2102) from the file `assets/scimagojr-3.xlsx`, which ranks countries based on their journal contributions in the aforementioned area. Call this DataFrame **ScimEn**.\n",
    "\n",
    "Join the three datasets: GDP, Energy, and ScimEn into a new dataset (using the intersection of country names). Use only the last 10 years (2006-2015) of GDP data and only the top 15 countries by Scimagojr 'Rank' (Rank 1 through 15). \n",
    "\n",
    "The index of this DataFrame should be the name of the country, and the columns should be ['Rank', 'Documents', 'Citable documents', 'Citations', 'Self-citations',\n",
    "       'Citations per document', 'H index', 'Energy Supply',\n",
    "       'Energy Supply per Capita', '% Renewable', '2006', '2007', '2008',\n",
    "       '2009', '2010', '2011', '2012', '2013', '2014', '2015'].\n",
    "\n",
    "*This function should return a DataFrame with 20 columns and 15 entries, and the rows of the DataFrame should be sorted by \"Rank\".*"
   ]
  },
  {
   "cell_type": "code",
   "execution_count": 2,
   "metadata": {
    "deletable": false,
    "nbgrader": {
     "cell_type": "code",
     "checksum": "57e040f07954f979910eddc0f489ffe5",
     "grade": false,
     "grade_id": "cell-bce4d6f2ecdd1297",
     "locked": false,
     "schema_version": 3,
     "solution": true
    }
   },
   "outputs": [],
   "source": [
    "def answer_one():\n",
    "    # YOUR CODE HERE\n",
    "    Energy = pd.read_excel('assets/Energy Indicators.xls',skiprows = 16,skipfooter = 38)\n",
    "    Energy = Energy.drop(columns = ['Unnamed: 0','Unnamed: 1']).rename(columns = {'Unnamed: 2':'Country','Renewable Electricity Production':'% Renewable'} )\n",
    "    Energy['Country'] = Energy.Country.str.replace('[0-9]','', regex=True) \n",
    "    Energy['Country'] = Energy.Country.str.replace('\\ \\(.*\\)','', regex=True) \n",
    "    Energy = Energy.replace([\"Republic of Korea\",\"United States of America\",\"United Kingdom of Great Britain and Northern Ireland\",\"China, Hong Kong Special Administrative Region\"] ,[\"South Korea\", \"United States\",\"United Kingdom\",\"Hong Kong\"])\n",
    "    Energy['Energy Supply'][1:] = pd.to_numeric(Energy['Energy Supply'][1:],errors='coerce')* 1000000\n",
    "    Energy['Energy Supply'][0] = 'gigajoules'\n",
    "    Energy['Energy Supply per capita'] = pd.to_numeric(Energy['Energy Supply per capita'][1:],errors='coerce')\n",
    "    GDP = pd.read_csv('assets/world_bank.csv',skiprows = 4)\n",
    "    GDP = GDP.replace({\"Korea, Rep.\": \"South Korea\",  \"Iran, Islamic Rep.\": \"Iran\", \"Hong Kong SAR, China\": \"Hong Kong\"})\n",
    "    ScimEn = pd.read_excel('assets/scimagojr-3.xlsx')\n",
    "    Energy = Energy.set_index('Country').join(GDP.set_index('Country Name'),how ='inner').join(ScimEn.set_index('Country'),how ='inner')\n",
    "    Energy.sort_values(by=['Rank'], inplace = True)\n",
    "    Energy = Energy[['Rank', 'Documents', 'Citable documents', 'Citations', 'Self-citations', 'Citations per document', 'H index', 'Energy Supply', 'Energy Supply per capita', '% Renewable', '2006', '2007', '2008', '2009', '2010', '2011', '2012', '2013', '2014', '2015']]\n",
    "    Energy.rename(columns = {'Energy Supply per capita':'Energy Supply per Capita'},inplace = True)\n",
    "    Energy = Energy[0:15]\n",
    "    print(Energy.index)\n",
    "    return Energy"
   ]
  },
  {
   "cell_type": "code",
   "execution_count": 3,
   "metadata": {
    "deletable": false,
    "editable": false,
    "nbgrader": {
     "cell_type": "code",
     "checksum": "7bcc18b325d2935427ac2566cddd3661",
     "grade": true,
     "grade_id": "cell-780b5a4da845dbc3",
     "locked": true,
     "points": 5,
     "schema_version": 3,
     "solution": false
    }
   },
   "outputs": [
    {
     "name": "stdout",
     "output_type": "stream",
     "text": [
      "Index(['China', 'United States', 'Japan', 'United Kingdom',\n",
      "       'Russian Federation', 'Canada', 'Germany', 'India', 'France',\n",
      "       'South Korea', 'Italy', 'Spain', 'Iran', 'Australia', 'Brazil'],\n",
      "      dtype='object')\n",
      "Index(['China', 'United States', 'Japan', 'United Kingdom',\n",
      "       'Russian Federation', 'Canada', 'Germany', 'India', 'France',\n",
      "       'South Korea', 'Italy', 'Spain', 'Iran', 'Australia', 'Brazil'],\n",
      "      dtype='object')\n"
     ]
    }
   ],
   "source": [
    "assert type(answer_one()) == pd.DataFrame, \"Q1: You should return a DataFrame!\"\n",
    "\n",
    "assert answer_one().shape == (15,20), \"Q1: Your DataFrame should have 20 columns and 15 entries!\"\n"
   ]
  },
  {
   "cell_type": "code",
   "execution_count": 6,
   "metadata": {
    "deletable": false,
    "editable": false,
    "nbgrader": {
     "cell_type": "code",
     "checksum": "e241830bcf3f63326b4c9cdf50be8f86",
     "grade": true,
     "grade_id": "cell-74b5f0b971379f64",
     "locked": true,
     "points": 10,
     "schema_version": 3,
     "solution": false
    }
   },
   "outputs": [],
   "source": [
    "# Cell for autograder.\n"
   ]
  },
  {
   "cell_type": "markdown",
   "metadata": {
    "deletable": false,
    "editable": false,
    "nbgrader": {
     "cell_type": "markdown",
     "checksum": "596280cd22ed98c5540580c62954ec2f",
     "grade": false,
     "grade_id": "cell-babe0ff2a1fc6b17",
     "locked": true,
     "schema_version": 3,
     "solution": false
    }
   },
   "source": [
    "### Question 2\n",
    "The previous question joined three datasets then reduced this to just the top 15 entries. When you joined the datasets, but before you reduced this to the top 15 items, how many entries did you lose?\n",
    "\n",
    "*This function should return a single number.*"
   ]
  },
  {
   "cell_type": "code",
   "execution_count": 4,
   "metadata": {
    "deletable": false,
    "editable": false,
    "nbgrader": {
     "cell_type": "code",
     "checksum": "c9a34da81c80126fd23ae2eac33f98f8",
     "grade": false,
     "grade_id": "cell-96f84e7b693bef63",
     "locked": true,
     "schema_version": 3,
     "solution": false
    }
   },
   "outputs": [
    {
     "data": {
      "text/html": [
       "<svg width=\"800\" height=\"300\">\n",
       "  <circle cx=\"150\" cy=\"180\" r=\"80\" fill-opacity=\"0.2\" stroke=\"black\" stroke-width=\"2\" fill=\"blue\" />\n",
       "  <circle cx=\"200\" cy=\"100\" r=\"80\" fill-opacity=\"0.2\" stroke=\"black\" stroke-width=\"2\" fill=\"red\" />\n",
       "  <circle cx=\"100\" cy=\"100\" r=\"80\" fill-opacity=\"0.2\" stroke=\"black\" stroke-width=\"2\" fill=\"green\" />\n",
       "  <line x1=\"150\" y1=\"125\" x2=\"300\" y2=\"150\" stroke=\"black\" stroke-width=\"2\" fill=\"black\" stroke-dasharray=\"5,3\"/>\n",
       "  <text x=\"300\" y=\"165\" font-family=\"Verdana\" font-size=\"35\">Everything but this!</text>\n",
       "</svg>\n"
      ],
      "text/plain": [
       "<IPython.core.display.HTML object>"
      ]
     },
     "metadata": {},
     "output_type": "display_data"
    }
   ],
   "source": [
    "%%HTML\n",
    "<svg width=\"800\" height=\"300\">\n",
    "  <circle cx=\"150\" cy=\"180\" r=\"80\" fill-opacity=\"0.2\" stroke=\"black\" stroke-width=\"2\" fill=\"blue\" />\n",
    "  <circle cx=\"200\" cy=\"100\" r=\"80\" fill-opacity=\"0.2\" stroke=\"black\" stroke-width=\"2\" fill=\"red\" />\n",
    "  <circle cx=\"100\" cy=\"100\" r=\"80\" fill-opacity=\"0.2\" stroke=\"black\" stroke-width=\"2\" fill=\"green\" />\n",
    "  <line x1=\"150\" y1=\"125\" x2=\"300\" y2=\"150\" stroke=\"black\" stroke-width=\"2\" fill=\"black\" stroke-dasharray=\"5,3\"/>\n",
    "  <text x=\"300\" y=\"165\" font-family=\"Verdana\" font-size=\"35\">Everything but this!</text>\n",
    "</svg>"
   ]
  },
  {
   "cell_type": "code",
   "execution_count": 5,
   "metadata": {
    "deletable": false,
    "nbgrader": {
     "cell_type": "code",
     "checksum": "aeeb01fb73054269dd7b818d0945e2f7",
     "grade": false,
     "grade_id": "cell-b0c3202c000aada4",
     "locked": false,
     "schema_version": 3,
     "solution": true
    }
   },
   "outputs": [],
   "source": [
    "def answer_two():\n",
    "    # YOUR CODE HERE\n",
    "    Energy = pd.read_excel('assets/Energy Indicators.xls',skiprows = 16,skipfooter = 38)\n",
    "    Energy = Energy.drop(columns = ['Unnamed: 0','Unnamed: 1']).rename(columns = {'Unnamed: 2':'Country','Renewable Electricity Production':'% Renewable'} )\n",
    "    Energy['Country'] = Energy.Country.str.replace('[0-9]','', regex=True) \n",
    "    Energy['Country'] = Energy.Country.str.replace('\\ \\(.*\\)','', regex=True) \n",
    "    Energy = Energy.replace([\"Republic of Korea\",\"United States of America\",\"United Kingdom of Great Britain and Northern Ireland\",\"China, Hong Kong Special Administrative Region\"] ,[\"South Korea\", \"United States\",\"United Kingdom\",\"Hong Kong\"])\n",
    "    Energy['Energy Supply'][1:] = pd.to_numeric(Energy['Energy Supply'][1:],errors='coerce')* 1000000\n",
    "    Energy['Energy Supply'][0] = 'gigajoules'\n",
    "    Energy['Energy Supply per capita'] = pd.to_numeric(Energy['Energy Supply per capita'][1:],errors='coerce')\n",
    "    GDP = pd.read_csv('assets/world_bank.csv',skiprows = 4)\n",
    "    GDP = GDP.replace({\"Korea, Rep.\": \"South Korea\",  \"Iran, Islamic Rep.\": \"Iran\", \"Hong Kong SAR, China\": \"Hong Kong\"})\n",
    "    ScimEn = pd.read_excel('assets/scimagojr-3.xlsx')\n",
    "    #alll = Energy.set_index('Country').join(GDP.set_index('Country Name'),how ='outer').join(ScimEn.set_index('Country'),how ='outer')\n",
    "\n",
    "    allentries = len(Energy)+len(GDP)+len(ScimEn)\n",
    "\n",
    "    Energy = Energy.set_index('Country').join(GDP.set_index('Country Name'),how ='inner').join(ScimEn.set_index('Country'),how ='inner')\n",
    "    af = len(Energy)\n",
    "    print(allentries-af)\n",
    "    return allentries-af"
   ]
  },
  {
   "cell_type": "code",
   "execution_count": 6,
   "metadata": {
    "deletable": false,
    "editable": false,
    "nbgrader": {
     "cell_type": "code",
     "checksum": "19759b4a6c03f34b647f66d343952619",
     "grade": true,
     "grade_id": "cell-be24cfcaa87ab071",
     "locked": true,
     "points": 6.66,
     "schema_version": 3,
     "solution": false
    }
   },
   "outputs": [
    {
     "name": "stdout",
     "output_type": "stream",
     "text": [
      "522\n"
     ]
    }
   ],
   "source": [
    "assert type(answer_two()) == int, \"Q2: You should return an int number!\"\n"
   ]
  },
  {
   "cell_type": "markdown",
   "metadata": {
    "deletable": false,
    "editable": false,
    "nbgrader": {
     "cell_type": "markdown",
     "checksum": "5af1b4f99cd383263130f4c00442a133",
     "grade": false,
     "grade_id": "cell-2e54816014e48c18",
     "locked": true,
     "schema_version": 3,
     "solution": false
    }
   },
   "source": [
    "### Question 3\n",
    "What are the top 15 countries for average GDP over the last 10 years?\n",
    "\n",
    "*This function should return a Series named `avgGDP` with 15 countries and their average GDP sorted in descending order.*"
   ]
  },
  {
   "cell_type": "code",
   "execution_count": 7,
   "metadata": {
    "deletable": false,
    "nbgrader": {
     "cell_type": "code",
     "checksum": "a3490fd71a46cecfa3da698e006fe729",
     "grade": false,
     "grade_id": "cell-8c3d74335c0d489a",
     "locked": false,
     "schema_version": 3,
     "solution": true
    }
   },
   "outputs": [],
   "source": [
    "def answer_three():\n",
    "    # YOUR CODE HERE\n",
    "    #GDP = pd.read_csv('assets/world_bank.csv',skiprows = 4)\n",
    "    #GDP = GDP.replace({\"Korea, Rep.\": \"South Korea\",  \"Iran, Islamic Rep.\": \"Iran\", \"Hong Kong SAR, China\": \"Hong Kong\"})\n",
    "    Energy = pd.read_excel('assets/Energy Indicators.xls',skiprows = 16,skipfooter = 38)\n",
    "    Energy = Energy.drop(columns = ['Unnamed: 0','Unnamed: 1']).rename(columns = {'Unnamed: 2':'Country','Renewable Electricity Production':'% Renewable'} )\n",
    "    Energy['Country'] = Energy.Country.str.replace('[0-9]','', regex=True) \n",
    "    Energy['Country'] = Energy.Country.str.replace('\\ \\(.*\\)','', regex=True) \n",
    "    Energy = Energy.replace([\"Republic of Korea\",\"United States of America\",\"United Kingdom of Great Britain and Northern Ireland\",\"China, Hong Kong Special Administrative Region\"] ,[\"South Korea\", \"United States\",\"United Kingdom\",\"Hong Kong\"])\n",
    "    Energy['Energy Supply'][1:] = pd.to_numeric(Energy['Energy Supply'][1:],errors='coerce')* 1000000\n",
    "    Energy['Energy Supply'][0] = 'gigajoules'\n",
    "    Energy['Energy Supply per capita'] = pd.to_numeric(Energy['Energy Supply per capita'][1:],errors='coerce')\n",
    "    GDP = pd.read_csv('assets/world_bank.csv',skiprows = 4)\n",
    "    GDP = GDP.replace({\"Korea, Rep.\": \"South Korea\",  \"Iran, Islamic Rep.\": \"Iran\", \"Hong Kong SAR, China\": \"Hong Kong\"})\n",
    "    ScimEn = pd.read_excel('assets/scimagojr-3.xlsx')\n",
    "    Energy = Energy.set_index('Country').join(GDP.set_index('Country Name'),how ='inner').join(ScimEn.set_index('Country'),how ='inner')\n",
    "    Energy.sort_values(by=['Rank'], inplace = True)\n",
    "    Energy = Energy[['Rank', 'Documents', 'Citable documents', 'Citations', 'Self-citations', 'Citations per document', 'H index', 'Energy Supply', 'Energy Supply per capita', '% Renewable', '2006', '2007', '2008', '2009', '2010', '2011', '2012', '2013', '2014', '2015']]\n",
    "    Energy.rename(columns = {'Energy Supply per capita':'Energy Supply per Capita'},inplace = True)\n",
    "    Energy = Energy[0:15]\n",
    "    GDP =    Energy[['2006', '2007', '2008', '2009', '2010', '2011', '2012', '2013', '2014', '2015']]\n",
    "    #print(GDP.dtypes)\n",
    "    \n",
    "    #GDP['2006', '2007', '2008', '2009', '2010', '2011', '2012', '2013', '2014', '2015'] = pd.to_numeric(GDP['2006', '2007', '2008', '2009', '2010', '2011', '2012', '2013', '2014', '2015'],errors='coerce')\n",
    "    GDP['avgGDP'] = GDP.apply(np.nanmean, axis=1)\n",
    "    GDP.sort_values(by=['avgGDP'],ascending = False, inplace = True)\n",
    "    #GDP = GDP[0:15]\n",
    "    #GDP.set_index('Country Name',inplace = True)\n",
    "\n",
    "    avgGDP = GDP['avgGDP']\n",
    "    #print(avgGDP[0:25])\n",
    "\n",
    "    #avgGDP.set_index('Country Name',inplace = True)\n",
    "    \n",
    "    if isinstance(avgGDP, pd.DataFrame):\n",
    "        print(\"my_series is a pandas series\")\n",
    "\n",
    "    print(avgGDP)\n",
    "    return avgGDP"
   ]
  },
  {
   "cell_type": "code",
   "execution_count": 8,
   "metadata": {
    "deletable": false,
    "editable": false,
    "nbgrader": {
     "cell_type": "code",
     "checksum": "2f9c90ee07138f94c027c5d2f907ab13",
     "grade": true,
     "grade_id": "cell-aaaa11ef7d26f4cf",
     "locked": true,
     "points": 6.66,
     "schema_version": 3,
     "solution": false
    }
   },
   "outputs": [
    {
     "name": "stdout",
     "output_type": "stream",
     "text": [
      "United States         1.536434e+13\n",
      "China                 6.348609e+12\n",
      "Japan                 5.542208e+12\n",
      "Germany               3.493025e+12\n",
      "France                2.681725e+12\n",
      "United Kingdom        2.487907e+12\n",
      "Brazil                2.189794e+12\n",
      "Italy                 2.120175e+12\n",
      "India                 1.769297e+12\n",
      "Canada                1.660647e+12\n",
      "Russian Federation    1.565459e+12\n",
      "Spain                 1.418078e+12\n",
      "Australia             1.164043e+12\n",
      "South Korea           1.106715e+12\n",
      "Iran                  4.441558e+11\n",
      "Name: avgGDP, dtype: float64\n"
     ]
    }
   ],
   "source": [
    "assert type(answer_three()) == pd.Series, \"Q3: You should return a Series!\"\n"
   ]
  },
  {
   "cell_type": "markdown",
   "metadata": {},
   "source": [
    "### Question 4\n",
    "By how much had the GDP changed over the 10 year span for the country with the 6th largest average GDP?\n",
    "\n",
    "*This function should return a single number.*"
   ]
  },
  {
   "cell_type": "code",
   "execution_count": 9,
   "metadata": {
    "deletable": false,
    "nbgrader": {
     "cell_type": "code",
     "checksum": "768a19bcc8adc6991fe5c757e95ba784",
     "grade": false,
     "grade_id": "cell-7f77d099e3e0bbee",
     "locked": false,
     "schema_version": 3,
     "solution": true
    }
   },
   "outputs": [
    {
     "data": {
      "text/plain": [
       "246702696075.3999"
      ]
     },
     "execution_count": 9,
     "metadata": {},
     "output_type": "execute_result"
    }
   ],
   "source": [
    "def answer_four():\n",
    "    # YOUR CODE HERE\n",
    "    #GDP = GDP.replace({\"Korea, Rep.\": \"South Korea\",  \"Iran, Islamic Rep.\": \"Iran\", \"Hong Kong SAR, China\": \"Hong Kong\"})\n",
    "    Energy = pd.read_excel('assets/Energy Indicators.xls',skiprows = 16,skipfooter = 38)\n",
    "    Energy = Energy.drop(columns = ['Unnamed: 0','Unnamed: 1']).rename(columns = {'Unnamed: 2':'Country','Renewable Electricity Production':'% Renewable'} )\n",
    "    Energy['Country'] = Energy.Country.str.replace('[0-9]','', regex=True) \n",
    "    Energy['Country'] = Energy.Country.str.replace('\\ \\(.*\\)','', regex=True) \n",
    "    Energy = Energy.replace([\"Republic of Korea\",\"United States of America\",\"United Kingdom of Great Britain and Northern Ireland\",\"China, Hong Kong Special Administrative Region\"] ,[\"South Korea\", \"United States\",\"United Kingdom\",\"Hong Kong\"])\n",
    "    Energy['Energy Supply'][1:] = pd.to_numeric(Energy['Energy Supply'][1:],errors='coerce')* 1000000\n",
    "    Energy['Energy Supply'][0] = 'gigajoules'\n",
    "    Energy['Energy Supply per capita'] = pd.to_numeric(Energy['Energy Supply per capita'][1:],errors='coerce')\n",
    "    GDP = pd.read_csv('assets/world_bank.csv',skiprows = 4)\n",
    "    GDP = GDP.replace({\"Korea, Rep.\": \"South Korea\",  \"Iran, Islamic Rep.\": \"Iran\", \"Hong Kong SAR, China\": \"Hong Kong\"})\n",
    "    ScimEn = pd.read_excel('assets/scimagojr-3.xlsx')\n",
    "    Energy = Energy.set_index('Country').join(GDP.set_index('Country Name'),how ='inner').join(ScimEn.set_index('Country'),how ='inner')\n",
    "    Energy.sort_values(by=['Rank'], inplace = True)\n",
    "    Energy = Energy[['Rank', 'Documents', 'Citable documents', 'Citations', 'Self-citations', 'Citations per document', 'H index', 'Energy Supply', 'Energy Supply per capita', '% Renewable', '2006', '2007', '2008', '2009', '2010', '2011', '2012', '2013', '2014', '2015']]\n",
    "    Energy.rename(columns = {'Energy Supply per capita':'Energy Supply per Capita'},inplace = True)\n",
    "    Energy = Energy[0:15]\n",
    "    GDP =    Energy[['2006', '2007', '2008', '2009', '2010', '2011', '2012', '2013', '2014', '2015']]\n",
    "    #print(GDP.dtypes)\n",
    "    #GDP['2006', '2007', '2008', '2009', '2010', '2011', '2012', '2013', '2014', '2015'] = pd.to_numeric(GDP['2006', '2007', '2008', '2009', '2010', '2011', '2012', '2013', '2014', '2015'],errors='coerce')\n",
    "    GDP['avgGDP'] = GDP.apply(lambda x: x.mean(), axis=1)\n",
    "    GDP.sort_values(by=['avgGDP'],ascending = False, inplace = True)\n",
    "    #avgGDP = GDP['avgGDP']\n",
    "\n",
    "    GDP = GDP.index[5]\n",
    "\n",
    "    #GDP.set_index('Country Name',inplace = True)\n",
    "    #print(Energy)\n",
    "    #print(Energy.loc[GDP]['2015']-Energy.loc[GDP]['2006'])\n",
    "    return Energy.loc[GDP]['2015']-Energy.loc[GDP]['2006']\n",
    "answer_four()"
   ]
  },
  {
   "cell_type": "code",
   "execution_count": 42,
   "metadata": {
    "deletable": false,
    "editable": false,
    "nbgrader": {
     "cell_type": "code",
     "checksum": "a7770c49cdfac4fa6368dfe8b39e6474",
     "grade": true,
     "grade_id": "cell-564dd8e5e24b0f83",
     "locked": true,
     "points": 6.66,
     "schema_version": 3,
     "solution": false
    }
   },
   "outputs": [],
   "source": [
    "# Cell for autograder.\n"
   ]
  },
  {
   "cell_type": "markdown",
   "metadata": {
    "deletable": false,
    "editable": false,
    "nbgrader": {
     "cell_type": "markdown",
     "checksum": "ed6dbc94ff1b6268873413fee12741cd",
     "grade": false,
     "grade_id": "cell-617669111e38ca15",
     "locked": true,
     "schema_version": 3,
     "solution": false
    }
   },
   "source": [
    "### Question 5\n",
    "What is the mean energy supply per capita?\n",
    "\n",
    "*This function should return a single number.*"
   ]
  },
  {
   "cell_type": "code",
   "execution_count": 10,
   "metadata": {
    "deletable": false,
    "nbgrader": {
     "cell_type": "code",
     "checksum": "cfd61a1735889e7ef20692ca0d28ddcb",
     "grade": false,
     "grade_id": "cell-58e79d558e982eef",
     "locked": false,
     "schema_version": 3,
     "solution": true
    }
   },
   "outputs": [
    {
     "name": "stdout",
     "output_type": "stream",
     "text": [
      "China                  93.0\n",
      "United States         286.0\n",
      "Japan                 149.0\n",
      "United Kingdom        124.0\n",
      "Russian Federation    214.0\n",
      "Canada                296.0\n",
      "Germany               165.0\n",
      "India                  26.0\n",
      "France                166.0\n",
      "South Korea           221.0\n",
      "Italy                 109.0\n",
      "Spain                 106.0\n",
      "Iran                  119.0\n",
      "Australia             231.0\n",
      "Brazil                 59.0\n",
      "Name: Energy Supply per Capita, dtype: float64\n",
      "157.6\n"
     ]
    },
    {
     "data": {
      "text/plain": [
       "157.6"
      ]
     },
     "execution_count": 10,
     "metadata": {},
     "output_type": "execute_result"
    }
   ],
   "source": [
    "def answer_five():\n",
    "    # YOUR CODE HERE\n",
    "    Energy = pd.read_excel('assets/Energy Indicators.xls',skiprows = 16,skipfooter = 38)\n",
    "    Energy = Energy.drop(columns = ['Unnamed: 0','Unnamed: 1']).rename(columns = {'Unnamed: 2':'Country','Renewable Electricity Production':'% Renewable'} )\n",
    "    Energy['Country'] = Energy.Country.str.replace('[0-9]','', regex=True) \n",
    "    Energy['Country'] = Energy.Country.str.replace('\\ \\(.*\\)','', regex=True) \n",
    "    Energy = Energy.replace([\"Republic of Korea\",\"United States of America\",\"United Kingdom of Great Britain and Northern Ireland\",\"China, Hong Kong Special Administrative Region\"] ,[\"South Korea\", \"United States\",\"United Kingdom\",\"Hong Kong\"])\n",
    "    Energy['Energy Supply'][1:] = pd.to_numeric(Energy['Energy Supply'][1:],errors='coerce')* 1000000\n",
    "    Energy['Energy Supply'][0] = 'gigajoules'\n",
    "    Energy['Energy Supply per capita'] = pd.to_numeric(Energy['Energy Supply per capita'][1:],errors='coerce')\n",
    "    GDP = pd.read_csv('assets/world_bank.csv',skiprows = 4)\n",
    "    GDP = GDP.replace({\"Korea, Rep.\": \"South Korea\",  \"Iran, Islamic Rep.\": \"Iran\", \"Hong Kong SAR, China\": \"Hong Kong\"})\n",
    "    ScimEn = pd.read_excel('assets/scimagojr-3.xlsx')\n",
    "    Energy = Energy.set_index('Country').join(GDP.set_index('Country Name'),how ='inner').join(ScimEn.set_index('Country'),how ='inner')\n",
    "    Energy.sort_values(by=['Rank'], inplace = True)\n",
    "    Energy = Energy[['Rank', 'Documents', 'Citable documents', 'Citations', 'Self-citations', 'Citations per document', 'H index', 'Energy Supply', 'Energy Supply per capita', '% Renewable', '2006', '2007', '2008', '2009', '2010', '2011', '2012', '2013', '2014', '2015']]\n",
    "    Energy.rename(columns = {'Energy Supply per capita':'Energy Supply per Capita'},inplace = True)\n",
    "    Energy = Energy[0:15]['Energy Supply per Capita']\n",
    "    print(Energy)\n",
    "    mean = Energy.mean()\n",
    "    print(mean)\n",
    "    return mean\n",
    "answer_five()"
   ]
  },
  {
   "cell_type": "code",
   "execution_count": 48,
   "metadata": {
    "deletable": false,
    "editable": false,
    "nbgrader": {
     "cell_type": "code",
     "checksum": "9d61bf22656baeecc77f63d54448590e",
     "grade": true,
     "grade_id": "cell-30cc66180851638c",
     "locked": true,
     "points": 6.66,
     "schema_version": 3,
     "solution": false
    }
   },
   "outputs": [],
   "source": [
    "# Cell for autograder.\n"
   ]
  },
  {
   "cell_type": "markdown",
   "metadata": {
    "deletable": false,
    "editable": false,
    "nbgrader": {
     "cell_type": "markdown",
     "checksum": "2c7a163ae96f56317756456b0d9d695b",
     "grade": false,
     "grade_id": "cell-5c11ddd12fd71b3f",
     "locked": true,
     "schema_version": 3,
     "solution": false
    }
   },
   "source": [
    "### Question 6\n",
    "What country has the maximum % Renewable and what is the percentage?\n",
    "\n",
    "*This function should return a tuple with the name of the country and the percentage.*"
   ]
  },
  {
   "cell_type": "code",
   "execution_count": 11,
   "metadata": {
    "deletable": false,
    "nbgrader": {
     "cell_type": "code",
     "checksum": "f8657f18c77eb0f752bca3cc48561da3",
     "grade": false,
     "grade_id": "cell-b6824b78e74619f9",
     "locked": false,
     "schema_version": 3,
     "solution": true
    }
   },
   "outputs": [],
   "source": [
    "def answer_six():\n",
    "    # YOUR CODE HERE\n",
    "    Energy = pd.read_excel('assets/Energy Indicators.xls',skiprows = 16,skipfooter = 38)\n",
    "    Energy = Energy.drop(columns = ['Unnamed: 0','Unnamed: 1']).rename(columns = {'Unnamed: 2':'Country','Renewable Electricity Production':'% Renewable'} )\n",
    "    Energy['Country'] = Energy.Country.str.replace('[0-9]','', regex=True) \n",
    "    Energy['Country'] = Energy.Country.str.replace('\\ \\(.*\\)','', regex=True) \n",
    "    Energy = Energy.replace([\"Republic of Korea\",\"United States of America\",\"United Kingdom of Great Britain and Northern Ireland\",\"China, Hong Kong Special Administrative Region\"] ,[\"South Korea\", \"United States\",\"United Kingdom\",\"Hong Kong\"])\n",
    "    Energy['Energy Supply'][1:] = pd.to_numeric(Energy['Energy Supply'][1:],errors='coerce')* 1000000\n",
    "    Energy['Energy Supply'][0] = 'gigajoules'\n",
    "    Energy['Energy Supply per capita'] = pd.to_numeric(Energy['Energy Supply per capita'][1:],errors='coerce')\n",
    "    GDP = pd.read_csv('assets/world_bank.csv',skiprows = 4)\n",
    "    GDP = GDP.replace({\"Korea, Rep.\": \"South Korea\",  \"Iran, Islamic Rep.\": \"Iran\", \"Hong Kong SAR, China\": \"Hong Kong\"})\n",
    "    ScimEn = pd.read_excel('assets/scimagojr-3.xlsx')\n",
    "    Energy = Energy.set_index('Country').join(GDP.set_index('Country Name'),how ='inner').join(ScimEn.set_index('Country'),how ='inner')\n",
    "    Energy.sort_values(by=['Rank'], inplace = True)\n",
    "    Energy = Energy[['Rank', 'Documents', 'Citable documents', 'Citations', 'Self-citations', 'Citations per document', 'H index', 'Energy Supply', 'Energy Supply per capita', '% Renewable', '2006', '2007', '2008', '2009', '2010', '2011', '2012', '2013', '2014', '2015']]\n",
    "    Energy.rename(columns = {'Energy Supply per capita':'Energy Supply per Capita'},inplace = True)\n",
    "    #print(Energy.dtypes)\n",
    "\n",
    "    Energy = pd.to_numeric(Energy[0:15]['% Renewable'])\n",
    "    maximum = (Energy.idxmax(),Energy.max()) \n",
    "    #GDP =    Energy[['2006', '2007', '2008', '2009', '2010', '2011', '2012', '2013', '2014', '2015']]\n",
    "    #print(GDP.dtypes)\n",
    "    #GDP['2006', '2007', '2008', '2009', '2010', '2011', '2012', '2013', '2014', '2015'] = pd.to_numeric(GDP['2006', '2007', '2008', '2009', '2010', '2011', '2012', '2013', '2014', '2015'],errors='coerce')\n",
    "    #GDP['avgGDP'] = GDP.apply(lambda x: x.mean(), axis=1)\n",
    "    #GDP.sort_values(by=['avgGDP'],ascending = False, inplace = True)   \n",
    "    print(maximum)\n",
    "    \n",
    "    return maximum"
   ]
  },
  {
   "cell_type": "code",
   "execution_count": 12,
   "metadata": {
    "deletable": false,
    "editable": false,
    "nbgrader": {
     "cell_type": "code",
     "checksum": "f8b28b0a824a3b76a6244c1273648ccd",
     "grade": true,
     "grade_id": "cell-2bd201c5c7bdd80f",
     "locked": true,
     "points": 6.66,
     "schema_version": 3,
     "solution": false
    }
   },
   "outputs": [
    {
     "name": "stdout",
     "output_type": "stream",
     "text": [
      "('Brazil', 69.64803)\n",
      "('Brazil', 69.64803)\n"
     ]
    }
   ],
   "source": [
    "assert type(answer_six()) == tuple, \"Q6: You should return a tuple!\"\n",
    "\n",
    "assert type(answer_six()[0]) == str, \"Q6: The first element in your result should be the name of the country!\"\n"
   ]
  },
  {
   "cell_type": "markdown",
   "metadata": {
    "deletable": false,
    "editable": false,
    "nbgrader": {
     "cell_type": "markdown",
     "checksum": "a7b561a486a28ee4ba80a40715617c6d",
     "grade": false,
     "grade_id": "cell-ddf52a85ad3d5a11",
     "locked": true,
     "schema_version": 3,
     "solution": false
    }
   },
   "source": [
    "### Question 7\n",
    "Create a new column that is the ratio of Self-Citations to Total Citations. \n",
    "What is the maximum value for this new column, and what country has the highest ratio?\n",
    "\n",
    "*This function should return a tuple with the name of the country and the ratio.*"
   ]
  },
  {
   "cell_type": "code",
   "execution_count": 13,
   "metadata": {
    "deletable": false,
    "nbgrader": {
     "cell_type": "code",
     "checksum": "e4b1cc5e3deefd24be992fbee18d0e74",
     "grade": false,
     "grade_id": "cell-a4f39737f38aa53c",
     "locked": false,
     "schema_version": 3,
     "solution": true
    }
   },
   "outputs": [],
   "source": [
    "def answer_seven():\n",
    "    # YOUR CODE HERE\n",
    "    Energy = pd.read_excel('assets/Energy Indicators.xls',skiprows = 16,skipfooter = 38)\n",
    "    Energy = Energy.drop(columns = ['Unnamed: 0','Unnamed: 1']).rename(columns = {'Unnamed: 2':'Country','Renewable Electricity Production':'% Renewable'} )\n",
    "    Energy['Country'] = Energy.Country.str.replace('[0-9]','', regex=True) \n",
    "    Energy['Country'] = Energy.Country.str.replace('\\ \\(.*\\)','', regex=True) \n",
    "    Energy = Energy.replace([\"Republic of Korea\",\"United States of America\",\"United Kingdom of Great Britain and Northern Ireland\",\"China, Hong Kong Special Administrative Region\"] ,[\"South Korea\", \"United States\",\"United Kingdom\",\"Hong Kong\"])\n",
    "    Energy['Energy Supply'][1:] = pd.to_numeric(Energy['Energy Supply'][1:],errors='coerce')* 1000000\n",
    "    Energy['Energy Supply'][0] = 'gigajoules'\n",
    "    Energy['Energy Supply per capita'] = pd.to_numeric(Energy['Energy Supply per capita'][1:],errors='coerce')\n",
    "    GDP = pd.read_csv('assets/world_bank.csv',skiprows = 4)\n",
    "    GDP = GDP.replace({\"Korea, Rep.\": \"South Korea\",  \"Iran, Islamic Rep.\": \"Iran\", \"Hong Kong SAR, China\": \"Hong Kong\"})\n",
    "    ScimEn = pd.read_excel('assets/scimagojr-3.xlsx')\n",
    "    Energy = Energy.set_index('Country').join(GDP.set_index('Country Name'),how ='inner').join(ScimEn.set_index('Country'),how ='inner')\n",
    "    Energy.sort_values(by=['Rank'], inplace = True)\n",
    "    Energy = Energy[['Rank', 'Documents', 'Citable documents', 'Citations', 'Self-citations', 'Citations per document', 'H index', 'Energy Supply', 'Energy Supply per capita', '% Renewable', '2006', '2007', '2008', '2009', '2010', '2011', '2012', '2013', '2014', '2015']]\n",
    "    Energy.rename(columns = {'Energy Supply per capita':'Energy Supply per Capita'},inplace = True)\n",
    "    #print(Energy.dtypes)\n",
    "\n",
    "    Energy = pd.to_numeric(Energy[0:15]['Self-citations']/Energy[0:15]['Citations'])\n",
    "    maximum2 = (Energy.idxmax(),Energy.max())\n",
    "    print(maximum2)\n",
    "    \n",
    "    \n",
    "    \n",
    "    return maximum2"
   ]
  },
  {
   "cell_type": "code",
   "execution_count": 14,
   "metadata": {
    "deletable": false,
    "editable": false,
    "nbgrader": {
     "cell_type": "code",
     "checksum": "ca448b3a16b65a3a08533cac736cc4d9",
     "grade": true,
     "grade_id": "cell-b7a163e9231b88c9",
     "locked": true,
     "points": 6.66,
     "schema_version": 3,
     "solution": false
    }
   },
   "outputs": [
    {
     "name": "stdout",
     "output_type": "stream",
     "text": [
      "('China', 0.6893126179389422)\n",
      "('China', 0.6893126179389422)\n"
     ]
    }
   ],
   "source": [
    "assert type(answer_seven()) == tuple, \"Q7: You should return a tuple!\"\n",
    "\n",
    "assert type(answer_seven()[0]) == str, \"Q7: The first element in your result should be the name of the country!\"\n"
   ]
  },
  {
   "cell_type": "markdown",
   "metadata": {
    "deletable": false,
    "editable": false,
    "nbgrader": {
     "cell_type": "markdown",
     "checksum": "7be7b86ee7467539dd88746818c78c0e",
     "grade": false,
     "grade_id": "cell-5c89296ab6f94218",
     "locked": true,
     "schema_version": 3,
     "solution": false
    }
   },
   "source": [
    "### Question 8\n",
    "\n",
    "Create a column that estimates the population using Energy Supply and Energy Supply per capita. \n",
    "What is the third most populous country according to this estimate?\n",
    "\n",
    "*This function should return the name of the country*"
   ]
  },
  {
   "cell_type": "code",
   "execution_count": 15,
   "metadata": {
    "deletable": false,
    "nbgrader": {
     "cell_type": "code",
     "checksum": "9d733b2abf089b1931e2e792ff51d488",
     "grade": false,
     "grade_id": "cell-9ca58137846b84d6",
     "locked": false,
     "schema_version": 3,
     "solution": true
    }
   },
   "outputs": [],
   "source": [
    "def answer_eight():\n",
    "    Energy = pd.read_excel('assets/Energy Indicators.xls',skiprows = 16,skipfooter = 38)\n",
    "    Energy = Energy.drop(columns = ['Unnamed: 0','Unnamed: 1']).rename(columns = {'Unnamed: 2':'Country','Renewable Electricity Production':'% Renewable'} )\n",
    "    Energy['Country'] = Energy.Country.str.replace('[0-9]','', regex=True) \n",
    "    Energy['Country'] = Energy.Country.str.replace('\\ \\(.*\\)','', regex=True) \n",
    "    Energy = Energy.replace([\"Republic of Korea\",\"United States of America\",\"United Kingdom of Great Britain and Northern Ireland\",\"China, Hong Kong Special Administrative Region\"] ,[\"South Korea\", \"United States\",\"United Kingdom\",\"Hong Kong\"])\n",
    "    Energy['Energy Supply'][1:] = pd.to_numeric(Energy['Energy Supply'][1:],errors='coerce')* 1000000\n",
    "    Energy['Energy Supply'][0] = 'gigajoules'\n",
    "    Energy['Energy Supply per capita'] = pd.to_numeric(Energy['Energy Supply per capita'][1:],errors='coerce')\n",
    "    GDP = pd.read_csv('assets/world_bank.csv',skiprows = 4)\n",
    "    GDP = GDP.replace({\"Korea, Rep.\": \"South Korea\",  \"Iran, Islamic Rep.\": \"Iran\", \"Hong Kong SAR, China\": \"Hong Kong\"})\n",
    "    ScimEn = pd.read_excel('assets/scimagojr-3.xlsx')\n",
    "    Energy = Energy.set_index('Country').join(GDP.set_index('Country Name'),how ='inner').join(ScimEn.set_index('Country'),how ='inner')\n",
    "    Energy.sort_values(by=['Rank'], inplace = True)\n",
    "    Energy = Energy[['Rank', 'Documents', 'Citable documents', 'Citations', 'Self-citations', 'Citations per document', 'H index', 'Energy Supply', 'Energy Supply per capita', '% Renewable', '2006', '2007', '2008', '2009', '2010', '2011', '2012', '2013', '2014', '2015']]\n",
    "    Energy.rename(columns = {'Energy Supply per capita':'Energy Supply per Capita'},inplace = True)\n",
    "    #print(Energy.dtypes)\n",
    "\n",
    "    Energy = pd.to_numeric(Energy[0:15]['Energy Supply']/Energy[0:15]['Energy Supply per Capita'])\n",
    "    Energy.sort_values( inplace = True)\n",
    "\n",
    "    print(Energy,Energy.index[12])\n",
    "    \n",
    "    \n",
    "    \n",
    "    return Energy.index[12]"
   ]
  },
  {
   "cell_type": "code",
   "execution_count": 16,
   "metadata": {
    "deletable": false,
    "editable": false,
    "nbgrader": {
     "cell_type": "code",
     "checksum": "ba2ad50cf8198767b0bd2f75b8d97e87",
     "grade": true,
     "grade_id": "cell-3f3620c88df08b20",
     "locked": true,
     "points": 0,
     "schema_version": 3,
     "solution": false
    }
   },
   "outputs": [
    {
     "name": "stdout",
     "output_type": "stream",
     "text": [
      "Australia             2.331602e+07\n",
      "Canada                3.523986e+07\n",
      "Spain                 4.644340e+07\n",
      "South Korea           4.980543e+07\n",
      "Italy                 5.990826e+07\n",
      "France                6.383735e+07\n",
      "United Kingdom        6.387097e+07\n",
      "Iran                  7.707563e+07\n",
      "Germany               8.036970e+07\n",
      "Japan                 1.274094e+08\n",
      "Russian Federation    1.435000e+08\n",
      "Brazil                2.059153e+08\n",
      "United States         3.176154e+08\n",
      "India                 1.276731e+09\n",
      "China                 1.367645e+09\n",
      "dtype: float64 United States\n"
     ]
    }
   ],
   "source": [
    "assert type(answer_eight()) == str, \"Q8: You should return the name of the country!\"\n"
   ]
  },
  {
   "cell_type": "markdown",
   "metadata": {
    "deletable": false,
    "editable": false,
    "nbgrader": {
     "cell_type": "markdown",
     "checksum": "164cba98164a1045db7de10dd37115c8",
     "grade": false,
     "grade_id": "cell-2065207e66e5ec01",
     "locked": true,
     "schema_version": 3,
     "solution": false
    }
   },
   "source": [
    "### Question 9\n",
    "Create a column that estimates the number of citable documents per person. \n",
    "What is the correlation between the number of citable documents per capita and the energy supply per capita? Use the `.corr()` method, (Pearson's correlation).\n",
    "\n",
    "*This function should return a single number.*\n",
    "\n",
    "*(Optional: Use the built-in function `plot9()` to visualize the relationship between Energy Supply per Capita vs. Citable docs per Capita)*"
   ]
  },
  {
   "cell_type": "code",
   "execution_count": 17,
   "metadata": {
    "deletable": false,
    "nbgrader": {
     "cell_type": "code",
     "checksum": "94e06c4c3a9618b94dbb0e86913b546c",
     "grade": false,
     "grade_id": "cell-033679ea456bfb9d",
     "locked": false,
     "schema_version": 3,
     "solution": true
    }
   },
   "outputs": [],
   "source": [
    "def answer_nine():\n",
    "    # YOUR CODE HERE\n",
    "    Energy = pd.read_excel('assets/Energy Indicators.xls',skiprows = 16,skipfooter = 38)\n",
    "    Energy = Energy.drop(columns = ['Unnamed: 0','Unnamed: 1']).rename(columns = {'Unnamed: 2':'Country','Renewable Electricity Production':'% Renewable'} )\n",
    "    Energy['Country'] = Energy.Country.str.replace('[0-9]','', regex=True) \n",
    "    Energy['Country'] = Energy.Country.str.replace('\\ \\(.*\\)','', regex=True) \n",
    "    Energy = Energy.replace([\"Republic of Korea\",\"United States of America\",\"United Kingdom of Great Britain and Northern Ireland\",\"China, Hong Kong Special Administrative Region\"] ,[\"South Korea\", \"United States\",\"United Kingdom\",\"Hong Kong\"])\n",
    "    Energy['Energy Supply'][1:] = pd.to_numeric(Energy['Energy Supply'][1:],errors='coerce')* 1000000\n",
    "    Energy['Energy Supply'][0] = 'gigajoules'\n",
    "    Energy['Energy Supply per capita'] = pd.to_numeric(Energy['Energy Supply per capita'][1:],errors='coerce')\n",
    "    GDP = pd.read_csv('assets/world_bank.csv',skiprows = 4)\n",
    "    GDP = GDP.replace({\"Korea, Rep.\": \"South Korea\",  \"Iran, Islamic Rep.\": \"Iran\", \"Hong Kong SAR, China\": \"Hong Kong\"})\n",
    "    ScimEn = pd.read_excel('assets/scimagojr-3.xlsx')\n",
    "    Energy = Energy.set_index('Country').join(GDP.set_index('Country Name'),how ='inner').join(ScimEn.set_index('Country'),how ='inner')\n",
    "    Energy.sort_values(by=['Rank'], inplace = True)\n",
    "    Energy = Energy[['Rank', 'Documents', 'Citable documents', 'Citations', 'Self-citations', 'Citations per document', 'H index', 'Energy Supply', 'Energy Supply per capita', '% Renewable', '2006', '2007', '2008', '2009', '2010', '2011', '2012', '2013', '2014', '2015']]\n",
    "    Energy.rename(columns = {'Energy Supply per capita':'Energy Supply per Capita'},inplace = True)\n",
    "    #print(Energy.dtypes)\n",
    "    Energy = Energy[0:15]\n",
    "    Energy['population'] = pd.to_numeric(Energy['Energy Supply']/Energy['Energy Supply per Capita'])\n",
    "    Energy['citation per person'] =     Energy['Citable documents']/Energy['population'] \n",
    "    Energy = Energy[['Energy Supply per Capita','citation per person']]\n",
    "    print(Energy.corr().loc['Energy Supply per Capita']['citation per person'])\n",
    "    #Energy.sort_values( inplace = True)\n",
    "    \n",
    "    \n",
    "    return Energy.corr().loc['Energy Supply per Capita']['citation per person']"
   ]
  },
  {
   "cell_type": "code",
   "execution_count": 18,
   "metadata": {
    "deletable": false,
    "editable": false,
    "nbgrader": {
     "cell_type": "code",
     "checksum": "01a146bbcca0fa9c9c13e71ab52e710f",
     "grade": false,
     "grade_id": "cell-644824f6c708bf80",
     "locked": true,
     "schema_version": 3,
     "solution": false
    }
   },
   "outputs": [],
   "source": [
    "def plot9():\n",
    "    import matplotlib as plt\n",
    "    %matplotlib inline\n",
    "    \n",
    "    Top15 = answer_one()\n",
    "    Top15['PopEst'] = Top15['Energy Supply'] / Top15['Energy Supply per Capita']\n",
    "    Top15['Citable docs per Capita'] = Top15['Citable documents'] / Top15['PopEst']\n",
    "    Top15.plot(x='Citable docs per Capita', y='Energy Supply per Capita', kind='scatter', xlim=[0, 0.0006])"
   ]
  },
  {
   "cell_type": "code",
   "execution_count": 19,
   "metadata": {
    "deletable": false,
    "editable": false,
    "nbgrader": {
     "cell_type": "code",
     "checksum": "8dced1dde88b6877f89bdec482870476",
     "grade": true,
     "grade_id": "cell-3cb5c699065a4a20",
     "locked": true,
     "points": 6.66,
     "schema_version": 3,
     "solution": false
    }
   },
   "outputs": [
    {
     "name": "stdout",
     "output_type": "stream",
     "text": [
      "0.7940010435442943\n",
      "0.7940010435442943\n"
     ]
    }
   ],
   "source": [
    "assert answer_nine() >= -1. and answer_nine() <= 1., \"Q9: A valid correlation should between -1 to 1!\"\n"
   ]
  },
  {
   "cell_type": "markdown",
   "metadata": {
    "deletable": false,
    "editable": false,
    "nbgrader": {
     "cell_type": "markdown",
     "checksum": "8af5ffad89be1e5c6292438724d6f8d5",
     "grade": false,
     "grade_id": "cell-ad09765e29b91157",
     "locked": true,
     "schema_version": 3,
     "solution": false
    }
   },
   "source": [
    "### Question 10\n",
    "Create a new column with a 1 if the country's % Renewable value is at or above the median for all countries in the top 15, and a 0 if the country's % Renewable value is below the median.\n",
    "\n",
    "*This function should return a series named `HighRenew` whose index is the country name sorted in ascending order of rank.*"
   ]
  },
  {
   "cell_type": "code",
   "execution_count": 20,
   "metadata": {
    "deletable": false,
    "nbgrader": {
     "cell_type": "code",
     "checksum": "340c06bd50a9a027a2190674cfb981b9",
     "grade": false,
     "grade_id": "cell-0fdf60e64bf1a4f9",
     "locked": false,
     "schema_version": 3,
     "solution": true
    }
   },
   "outputs": [],
   "source": [
    "def answer_ten():\n",
    "    # YOUR CODE HERE\n",
    "    Energy = pd.read_excel('assets/Energy Indicators.xls',skiprows = 16,skipfooter = 38)\n",
    "    Energy = Energy.drop(columns = ['Unnamed: 0','Unnamed: 1']).rename(columns = {'Unnamed: 2':'Country','Renewable Electricity Production':'% Renewable'} )\n",
    "    Energy['Country'] = Energy.Country.str.replace('[0-9]','', regex=True) \n",
    "    Energy['Country'] = Energy.Country.str.replace('\\ \\(.*\\)','', regex=True) \n",
    "    Energy = Energy.replace([\"Republic of Korea\",\"United States of America\",\"United Kingdom of Great Britain and Northern Ireland\",\"China, Hong Kong Special Administrative Region\"] ,[\"South Korea\", \"United States\",\"United Kingdom\",\"Hong Kong\"])\n",
    "    Energy['Energy Supply'][1:] = pd.to_numeric(Energy['Energy Supply'][1:],errors='coerce')* 1000000\n",
    "    Energy['Energy Supply'][0] = 'gigajoules'\n",
    "    Energy['Energy Supply per capita'] = pd.to_numeric(Energy['Energy Supply per capita'][1:],errors='coerce')\n",
    "    GDP = pd.read_csv('assets/world_bank.csv',skiprows = 4)\n",
    "    GDP = GDP.replace({\"Korea, Rep.\": \"South Korea\",  \"Iran, Islamic Rep.\": \"Iran\", \"Hong Kong SAR, China\": \"Hong Kong\"})\n",
    "    ScimEn = pd.read_excel('assets/scimagojr-3.xlsx')\n",
    "    Energy = Energy.set_index('Country').join(GDP.set_index('Country Name'),how ='inner').join(ScimEn.set_index('Country'),how ='inner')\n",
    "    Energy.sort_values(by=['Rank'], inplace = True)\n",
    "    Energy = Energy[['Rank', 'Documents', 'Citable documents', 'Citations', 'Self-citations', 'Citations per document', 'H index', 'Energy Supply', 'Energy Supply per capita', '% Renewable', '2006', '2007', '2008', '2009', '2010', '2011', '2012', '2013', '2014', '2015']]\n",
    "    Energy.rename(columns = {'Energy Supply per capita':'Energy Supply per Capita'},inplace = True)\n",
    "    #print(Energy.dtypes)\n",
    "    Energy = pd.to_numeric(Energy[0:15]['% Renewable'])\n",
    "    HighRenew = Energy#.sort_values(ascending = False)\n",
    "    median = HighRenew.median()\n",
    "    HighRenew = HighRenew.where(HighRenew>= median, 0)\n",
    "    HighRenew = HighRenew.where(HighRenew< median, 1)\n",
    "\n",
    "    print(HighRenew,Energy)\n",
    "    \n",
    "    \n",
    "    \n",
    "    \n",
    "    return HighRenew"
   ]
  },
  {
   "cell_type": "code",
   "execution_count": 21,
   "metadata": {
    "deletable": false,
    "editable": false,
    "nbgrader": {
     "cell_type": "code",
     "checksum": "f624e6996eca5796eaf27fb4d0593175",
     "grade": true,
     "grade_id": "cell-b29a631fd9a7730f",
     "locked": true,
     "points": 6.66,
     "schema_version": 3,
     "solution": false
    }
   },
   "outputs": [
    {
     "name": "stdout",
     "output_type": "stream",
     "text": [
      "China                 1.0\n",
      "United States         0.0\n",
      "Japan                 0.0\n",
      "United Kingdom        0.0\n",
      "Russian Federation    1.0\n",
      "Canada                1.0\n",
      "Germany               1.0\n",
      "India                 0.0\n",
      "France                1.0\n",
      "South Korea           0.0\n",
      "Italy                 1.0\n",
      "Spain                 1.0\n",
      "Iran                  0.0\n",
      "Australia             0.0\n",
      "Brazil                1.0\n",
      "Name: % Renewable, dtype: float64 China                 19.754910\n",
      "United States         11.570980\n",
      "Japan                 10.232820\n",
      "United Kingdom        10.600470\n",
      "Russian Federation    17.288680\n",
      "Canada                61.945430\n",
      "Germany               17.901530\n",
      "India                 14.969080\n",
      "France                17.020280\n",
      "South Korea            2.279353\n",
      "Italy                 33.667230\n",
      "Spain                 37.968590\n",
      "Iran                   5.707721\n",
      "Australia             11.810810\n",
      "Brazil                69.648030\n",
      "Name: % Renewable, dtype: float64\n"
     ]
    }
   ],
   "source": [
    "assert type(answer_ten()) == pd.Series, \"Q10: You should return a Series!\"\n"
   ]
  },
  {
   "cell_type": "markdown",
   "metadata": {
    "deletable": false,
    "editable": false,
    "nbgrader": {
     "cell_type": "markdown",
     "checksum": "52f682e7066791c34cd3b2402855cbf5",
     "grade": false,
     "grade_id": "cell-677c51ba711c3af7",
     "locked": true,
     "schema_version": 3,
     "solution": false
    }
   },
   "source": [
    "### Question 11\n",
    "Use the following dictionary to group the Countries by Continent, then create a DataFrame that displays the sample size (the number of countries in each continent bin), and the sum, mean, and std deviation for the estimated population of each country.\n",
    "\n",
    "```python\n",
    "ContinentDict  = {'China':'Asia', \n",
    "                  'United States':'North America', \n",
    "                  'Japan':'Asia', \n",
    "                  'United Kingdom':'Europe', \n",
    "                  'Russian Federation':'Europe', \n",
    "                  'Canada':'North America', \n",
    "                  'Germany':'Europe', \n",
    "                  'India':'Asia',\n",
    "                  'France':'Europe', \n",
    "                  'South Korea':'Asia', \n",
    "                  'Italy':'Europe', \n",
    "                  'Spain':'Europe', \n",
    "                  'Iran':'Asia',\n",
    "                  'Australia':'Australia', \n",
    "                  'Brazil':'South America'}\n",
    "```\n",
    "\n",
    "*This function should return a DataFrame with index named Continent `['Asia', 'Australia', 'Europe', 'North America', 'South America']` and columns `['size', 'sum', 'mean', 'std']`*"
   ]
  },
  {
   "cell_type": "code",
   "execution_count": 22,
   "metadata": {
    "deletable": false,
    "nbgrader": {
     "cell_type": "code",
     "checksum": "b55846bc20cd01b0acbcb776504a766d",
     "grade": false,
     "grade_id": "cell-a5e0c0df27304f98",
     "locked": false,
     "schema_version": 3,
     "solution": true
    }
   },
   "outputs": [],
   "source": [
    "def answer_eleven():\n",
    "    # YOUR CODE HERE\n",
    "    ContinentDict  = {'China':'Asia', \n",
    "                      'United States':'North America', \n",
    "                      'Japan':'Asia', \n",
    "                      'United Kingdom':'Europe', \n",
    "                      'Russian Federation':'Europe', \n",
    "                      'Canada':'North America', \n",
    "                      'Germany':'Europe', \n",
    "                      'India':'Asia',\n",
    "                      'France':'Europe', \n",
    "                      'South Korea':'Asia', \n",
    "                      'Italy':'Europe', \n",
    "                      'Spain':'Europe', \n",
    "                      'Iran':'Asia',\n",
    "                      'Australia':'Australia', \n",
    "                      'Brazil':'South America'}\n",
    "    #Continent = pd.DataFrame.from_dict(ContinentDict, orient='index')\n",
    "    #print(Continent)\n",
    "    Energy = pd.read_excel('assets/Energy Indicators.xls',skiprows = 16,skipfooter = 38)\n",
    "    Energy = Energy.drop(columns = ['Unnamed: 0','Unnamed: 1']).rename(columns = {'Unnamed: 2':'Country','Renewable Electricity Production':'% Renewable'} )\n",
    "    Energy['Country'] = Energy.Country.str.replace('[0-9]','', regex=True) \n",
    "    Energy['Country'] = Energy.Country.str.replace('\\ \\(.*\\)','', regex=True) \n",
    "    Energy = Energy.replace([\"Republic of Korea\",\"United States of America\",\"United Kingdom of Great Britain and Northern Ireland\",\"China, Hong Kong Special Administrative Region\"] ,[\"South Korea\", \"United States\",\"United Kingdom\",\"Hong Kong\"])\n",
    "    Energy['Energy Supply'][1:] = pd.to_numeric(Energy['Energy Supply'][1:],errors='coerce')* 1000000\n",
    "    Energy['Energy Supply'][0] = 'gigajoules'\n",
    "    Energy['Energy Supply per capita'] = pd.to_numeric(Energy['Energy Supply per capita'][1:],errors='coerce')\n",
    "    GDP = pd.read_csv('assets/world_bank.csv',skiprows = 4)\n",
    "    GDP = GDP.replace({\"Korea, Rep.\": \"South Korea\",  \"Iran, Islamic Rep.\": \"Iran\", \"Hong Kong SAR, China\": \"Hong Kong\"})\n",
    "    ScimEn = pd.read_excel('assets/scimagojr-3.xlsx')\n",
    "    Energy = Energy.set_index('Country').join(GDP.set_index('Country Name'),how ='inner').join(ScimEn.set_index('Country'),how ='inner')\n",
    "    Energy.sort_values(by=['Rank'], inplace = True)\n",
    "    Energy = Energy[['Rank', 'Documents', 'Citable documents', 'Citations', 'Self-citations', 'Citations per document', 'H index', 'Energy Supply', 'Energy Supply per capita', '% Renewable', '2006', '2007', '2008', '2009', '2010', '2011', '2012', '2013', '2014', '2015']]\n",
    "    Energy.rename(columns = {'Energy Supply per capita':'Energy Supply per Capita'},inplace = True)\n",
    "    #print(Energy.dtypes)\n",
    "    Energy = Energy[0:15]\n",
    "    Energy['population'] = pd.to_numeric(Energy['Energy Supply']/Energy['Energy Supply per Capita'])\n",
    "    Energy = Energy['population']\n",
    "    #Energy = Energy.join( Continent)\n",
    "    grouped = Energy\n",
    "    size = grouped.groupby(by = ContinentDict).count()\n",
    "    summ = grouped.groupby(by = ContinentDict).sum()\n",
    "    mean = grouped.groupby(by = ContinentDict).mean()\n",
    "    std = grouped.groupby(by = ContinentDict).std()\n",
    "    alll =pd.concat([size,summ,mean,std],axis = 1,keys = ['size','sum','mean','std'])\n",
    "\n",
    "    print(alll)\n",
    "    \n",
    "    \n",
    "    \n",
    "    return alll"
   ]
  },
  {
   "cell_type": "code",
   "execution_count": 23,
   "metadata": {
    "deletable": false,
    "editable": false,
    "nbgrader": {
     "cell_type": "code",
     "checksum": "233318097d9c94fdc87395c967da14c4",
     "grade": true,
     "grade_id": "cell-18d1a07971b25743",
     "locked": true,
     "points": 6.66,
     "schema_version": 3,
     "solution": false
    }
   },
   "outputs": [
    {
     "name": "stdout",
     "output_type": "stream",
     "text": [
      "               size           sum          mean           std\n",
      "Asia              5  2.898666e+09  5.797333e+08  6.790979e+08\n",
      "Australia         1  2.331602e+07  2.331602e+07           NaN\n",
      "Europe            6  4.579297e+08  7.632161e+07  3.464767e+07\n",
      "North America     2  3.528552e+08  1.764276e+08  1.996696e+08\n",
      "South America     1  2.059153e+08  2.059153e+08           NaN\n",
      "               size           sum          mean           std\n",
      "Asia              5  2.898666e+09  5.797333e+08  6.790979e+08\n",
      "Australia         1  2.331602e+07  2.331602e+07           NaN\n",
      "Europe            6  4.579297e+08  7.632161e+07  3.464767e+07\n",
      "North America     2  3.528552e+08  1.764276e+08  1.996696e+08\n",
      "South America     1  2.059153e+08  2.059153e+08           NaN\n",
      "               size           sum          mean           std\n",
      "Asia              5  2.898666e+09  5.797333e+08  6.790979e+08\n",
      "Australia         1  2.331602e+07  2.331602e+07           NaN\n",
      "Europe            6  4.579297e+08  7.632161e+07  3.464767e+07\n",
      "North America     2  3.528552e+08  1.764276e+08  1.996696e+08\n",
      "South America     1  2.059153e+08  2.059153e+08           NaN\n"
     ]
    }
   ],
   "source": [
    "assert type(answer_eleven()) == pd.DataFrame, \"Q11: You should return a DataFrame!\"\n",
    "\n",
    "assert answer_eleven().shape[0] == 5, \"Q11: Wrong row numbers!\"\n",
    "\n",
    "assert answer_eleven().shape[1] == 4, \"Q11: Wrong column numbers!\"\n"
   ]
  },
  {
   "cell_type": "markdown",
   "metadata": {
    "deletable": false,
    "editable": false,
    "nbgrader": {
     "cell_type": "markdown",
     "checksum": "78d9dbb8ff6e0a1ac1e0d16e026a7d98",
     "grade": false,
     "grade_id": "cell-fa26f5c1eac39c6c",
     "locked": true,
     "schema_version": 3,
     "solution": false
    }
   },
   "source": [
    "### Question 12\n",
    "Cut % Renewable into 5 bins. Group Top15 by the Continent, as well as these new % Renewable bins. How many countries are in each of these groups?\n",
    "\n",
    "*This function should return a Series with a MultiIndex of `Continent`, then the bins for `% Renewable`. Do not include groups with no countries.*"
   ]
  },
  {
   "cell_type": "code",
   "execution_count": 25,
   "metadata": {
    "deletable": false,
    "nbgrader": {
     "cell_type": "code",
     "checksum": "27eb27ec7a3347530174f7047288a881",
     "grade": false,
     "grade_id": "cell-2ecd9a4076abd8f0",
     "locked": false,
     "schema_version": 3,
     "solution": true
    }
   },
   "outputs": [],
   "source": [
    "def answer_twelve():\n",
    "    # YOUR CODE HERe\n",
    "    ContinentDict  = {'China':'Asia', \n",
    "                      'United States':'North America', \n",
    "                      'Japan':'Asia', \n",
    "                      'United Kingdom':'Europe', \n",
    "                      'Russian Federation':'Europe', \n",
    "                      'Canada':'North America', \n",
    "                      'Germany':'Europe', \n",
    "                      'India':'Asia',\n",
    "                      'France':'Europe', \n",
    "                      'South Korea':'Asia', \n",
    "                      'Italy':'Europe', \n",
    "                      'Spain':'Europe', \n",
    "                      'Iran':'Asia',\n",
    "                      'Australia':'Australia', \n",
    "                      'Brazil':'South America'}\n",
    "    #Continent = pd.DataFrame.from_dict(ContinentDict, orient='index')\n",
    "    #print(Continent)\n",
    "    Energy = pd.read_excel('assets/Energy Indicators.xls',skiprows = 16,skipfooter = 38)\n",
    "    Energy = Energy.drop(columns = ['Unnamed: 0','Unnamed: 1']).rename(columns = {'Unnamed: 2':'Country','Renewable Electricity Production':'% Renewable'} )\n",
    "    Energy['Country'] = Energy.Country.str.replace('[0-9]','', regex=True) \n",
    "    Energy['Country'] = Energy.Country.str.replace('\\ \\(.*\\)','', regex=True) \n",
    "    Energy = Energy.replace([\"Republic of Korea\",\"United States of America\",\"United Kingdom of Great Britain and Northern Ireland\",\"China, Hong Kong Special Administrative Region\"] ,[\"South Korea\", \"United States\",\"United Kingdom\",\"Hong Kong\"])\n",
    "    Energy['Energy Supply'][1:] = pd.to_numeric(Energy['Energy Supply'][1:],errors='coerce')* 1000000\n",
    "    Energy['Energy Supply'][0] = 'gigajoules'\n",
    "    Energy['Energy Supply per capita'] = pd.to_numeric(Energy['Energy Supply per capita'][1:],errors='coerce')\n",
    "    GDP = pd.read_csv('assets/world_bank.csv',skiprows = 4)\n",
    "    GDP = GDP.replace({\"Korea, Rep.\": \"South Korea\",  \"Iran, Islamic Rep.\": \"Iran\", \"Hong Kong SAR, China\": \"Hong Kong\"})\n",
    "    ScimEn = pd.read_excel('assets/scimagojr-3.xlsx')\n",
    "    Energy = Energy.set_index('Country').join(GDP.set_index('Country Name'),how ='inner').join(ScimEn.set_index('Country'),how ='inner')\n",
    "    Energy.sort_values(by=['Rank'], inplace = True)\n",
    "    Energy = Energy[['Rank', 'Documents', 'Citable documents', 'Citations', 'Self-citations', 'Citations per document', 'H index', 'Energy Supply', 'Energy Supply per capita', '% Renewable', '2006', '2007', '2008', '2009', '2010', '2011', '2012', '2013', '2014', '2015']]\n",
    "    Energy.rename(columns = {'Energy Supply per capita':'Energy Supply per Capita'},inplace = True)\n",
    "    #print(Energy.dtypes)\n",
    "    Energy = Energy[0:15]\n",
    "    Energy['population'] = pd.to_numeric(Energy['Energy Supply']/Energy['Energy Supply per Capita'])\n",
    "    Energy = Energy['% Renewable']\n",
    "    #Energy = Energy.join( Continent)\n",
    "    grouped = Energy\n",
    "    size = grouped.groupby(by = ContinentDict).count()\n",
    "    print(size)\n",
    "    return size\n"
   ]
  },
  {
   "cell_type": "code",
   "execution_count": 26,
   "metadata": {
    "deletable": false,
    "editable": false,
    "nbgrader": {
     "cell_type": "code",
     "checksum": "48903ccc73403827b7ddbb155783ea14",
     "grade": true,
     "grade_id": "cell-6c665602d6babab9",
     "locked": true,
     "points": 6.66,
     "schema_version": 3,
     "solution": false
    }
   },
   "outputs": [
    {
     "name": "stdout",
     "output_type": "stream",
     "text": [
      "Asia             5\n",
      "Australia        1\n",
      "Europe           6\n",
      "North America    2\n",
      "South America    1\n",
      "Name: % Renewable, dtype: int64\n",
      "Asia             5\n",
      "Australia        1\n",
      "Europe           6\n",
      "North America    2\n",
      "South America    1\n",
      "Name: % Renewable, dtype: int64\n"
     ]
    },
    {
     "ename": "AssertionError",
     "evalue": "Q12: Wrong result numbers!",
     "output_type": "error",
     "traceback": [
      "\u001b[0;31m---------------------------------------------------------------------------\u001b[0m",
      "\u001b[0;31mAssertionError\u001b[0m                            Traceback (most recent call last)",
      "Cell \u001b[0;32mIn [26], line 3\u001b[0m\n\u001b[1;32m      1\u001b[0m \u001b[38;5;28;01massert\u001b[39;00m \u001b[38;5;28mtype\u001b[39m(answer_twelve()) \u001b[38;5;241m==\u001b[39m pd\u001b[38;5;241m.\u001b[39mSeries, \u001b[38;5;124m\"\u001b[39m\u001b[38;5;124mQ12: You should return a Series!\u001b[39m\u001b[38;5;124m\"\u001b[39m\n\u001b[0;32m----> 3\u001b[0m \u001b[38;5;28;01massert\u001b[39;00m \u001b[38;5;28mlen\u001b[39m(answer_twelve()) \u001b[38;5;241m==\u001b[39m \u001b[38;5;241m25\u001b[39m, \u001b[38;5;124m\"\u001b[39m\u001b[38;5;124mQ12: Wrong result numbers!\u001b[39m\u001b[38;5;124m\"\u001b[39m\n",
      "\u001b[0;31mAssertionError\u001b[0m: Q12: Wrong result numbers!"
     ]
    }
   ],
   "source": [
    "assert type(answer_twelve()) == pd.Series, \"Q12: You should return a Series!\"\n",
    "\n",
    "assert len(answer_twelve()) == 25, \"Q12: Wrong result numbers!\"\n"
   ]
  },
  {
   "cell_type": "markdown",
   "metadata": {
    "deletable": false,
    "editable": false,
    "nbgrader": {
     "cell_type": "markdown",
     "checksum": "bdfd9b1bb897304b6337fdc47a05967c",
     "grade": false,
     "grade_id": "cell-4209a10d8f208739",
     "locked": true,
     "schema_version": 3,
     "solution": false
    }
   },
   "source": [
    "### Question 13\n",
    "Convert the Population Estimate series to a string with thousands separator (using commas). Use all significant digits (do not round the results).\n",
    "\n",
    "e.g. 12345678.90 -> 12,345,678.90\n",
    "\n",
    "*This function should return a series `PopEst` whose index is the country name and whose values are the population estimate string*"
   ]
  },
  {
   "cell_type": "code",
   "execution_count": 27,
   "metadata": {
    "deletable": false,
    "nbgrader": {
     "cell_type": "code",
     "checksum": "1efd09964334b7d6100d81d4b3ead3e9",
     "grade": false,
     "grade_id": "cell-58eb0ee0921d93fb",
     "locked": false,
     "schema_version": 3,
     "solution": true
    }
   },
   "outputs": [],
   "source": [
    "def answer_thirteen():\n",
    "    # YOUR CODE HERE\n",
    "    Energy = pd.read_excel('assets/Energy Indicators.xls',skiprows = 16,skipfooter = 38)\n",
    "    Energy = Energy.drop(columns = ['Unnamed: 0','Unnamed: 1']).rename(columns = {'Unnamed: 2':'Country','Renewable Electricity Production':'% Renewable'} )\n",
    "    Energy['Country'] = Energy.Country.str.replace('[0-9]','', regex=True) \n",
    "    Energy['Country'] = Energy.Country.str.replace('\\ \\(.*\\)','', regex=True) \n",
    "    Energy = Energy.replace([\"Republic of Korea\",\"United States of America\",\"United Kingdom of Great Britain and Northern Ireland\",\"China, Hong Kong Special Administrative Region\"] ,[\"South Korea\", \"United States\",\"United Kingdom\",\"Hong Kong\"])\n",
    "    Energy['Energy Supply'][1:] = pd.to_numeric(Energy['Energy Supply'][1:],errors='coerce')* 1000000\n",
    "    Energy['Energy Supply'][0] = 'gigajoules'\n",
    "    Energy['Energy Supply per capita'] = pd.to_numeric(Energy['Energy Supply per capita'][1:],errors='coerce')\n",
    "    GDP = pd.read_csv('assets/world_bank.csv',skiprows = 4)\n",
    "    GDP = GDP.replace({\"Korea, Rep.\": \"South Korea\",  \"Iran, Islamic Rep.\": \"Iran\", \"Hong Kong SAR, China\": \"Hong Kong\"})\n",
    "    ScimEn = pd.read_excel('assets/scimagojr-3.xlsx')\n",
    "    Energy = Energy.set_index('Country').join(GDP.set_index('Country Name'),how ='inner').join(ScimEn.set_index('Country'),how ='inner')\n",
    "    Energy.sort_values(by=['Rank'], inplace = True)\n",
    "    Energy = Energy[['Rank', 'Documents', 'Citable documents', 'Citations', 'Self-citations', 'Citations per document', 'H index', 'Energy Supply', 'Energy Supply per capita', '% Renewable', '2006', '2007', '2008', '2009', '2010', '2011', '2012', '2013', '2014', '2015']]\n",
    "    Energy.rename(columns = {'Energy Supply per capita':'Energy Supply per Capita'},inplace = True)\n",
    "    #print(Energy.dtypes)\n",
    "    Energy = Energy[0:15]\n",
    "    Energy['population'] = pd.to_numeric(Energy['Energy Supply']/Energy['Energy Supply per Capita'])\n",
    "    PopEst = Energy\n",
    "    PopEst['pop'] = PopEst['population'].map('{:,}'.format)\n",
    "    PopEst = PopEst['pop']\n",
    "    PopEst.name = 'PopEst'\n",
    "    print(PopEst)\n",
    "    return PopEst"
   ]
  },
  {
   "cell_type": "code",
   "execution_count": 28,
   "metadata": {
    "deletable": false,
    "editable": false,
    "nbgrader": {
     "cell_type": "code",
     "checksum": "e014781df77c7edab2a181d2d943be8f",
     "grade": true,
     "grade_id": "cell-10fee7228cf973f6",
     "locked": true,
     "points": 6.74,
     "schema_version": 3,
     "solution": false
    }
   },
   "outputs": [
    {
     "name": "stdout",
     "output_type": "stream",
     "text": [
      "China                 1,367,645,161.2903225\n",
      "United States          317,615,384.61538464\n",
      "Japan                  127,409,395.97315437\n",
      "United Kingdom         63,870,967.741935484\n",
      "Russian Federation            143,500,000.0\n",
      "Canada                  35,239,864.86486486\n",
      "Germany                 80,369,696.96969697\n",
      "India                 1,276,730,769.2307692\n",
      "France                  63,837,349.39759036\n",
      "South Korea            49,805,429.864253394\n",
      "Italy                  59,908,256.880733944\n",
      "Spain                    46,443,396.2264151\n",
      "Iran                    77,075,630.25210084\n",
      "Australia              23,316,017.316017315\n",
      "Brazil                 205,915,254.23728815\n",
      "Name: PopEst, dtype: object\n",
      "China                 1,367,645,161.2903225\n",
      "United States          317,615,384.61538464\n",
      "Japan                  127,409,395.97315437\n",
      "United Kingdom         63,870,967.741935484\n",
      "Russian Federation            143,500,000.0\n",
      "Canada                  35,239,864.86486486\n",
      "Germany                 80,369,696.96969697\n",
      "India                 1,276,730,769.2307692\n",
      "France                  63,837,349.39759036\n",
      "South Korea            49,805,429.864253394\n",
      "Italy                  59,908,256.880733944\n",
      "Spain                    46,443,396.2264151\n",
      "Iran                    77,075,630.25210084\n",
      "Australia              23,316,017.316017315\n",
      "Brazil                 205,915,254.23728815\n",
      "Name: PopEst, dtype: object\n"
     ]
    }
   ],
   "source": [
    "assert type(answer_thirteen()) == pd.Series, \"Q13: You should return a Series!\"\n",
    "\n",
    "assert len(answer_thirteen()) == 15, \"Q13: Wrong result numbers!\"\n"
   ]
  },
  {
   "cell_type": "markdown",
   "metadata": {
    "deletable": false,
    "editable": false,
    "nbgrader": {
     "cell_type": "markdown",
     "checksum": "61562b9b667bd5efbcec0dcd7becbfaa",
     "grade": false,
     "grade_id": "cell-998b62d4f390ef15",
     "locked": true,
     "schema_version": 3,
     "solution": false
    }
   },
   "source": [
    "### Optional\n",
    "\n",
    "Use the built in function `plot_optional()` to see an example visualization."
   ]
  },
  {
   "cell_type": "code",
   "execution_count": 29,
   "metadata": {
    "deletable": false,
    "editable": false,
    "nbgrader": {
     "cell_type": "code",
     "checksum": "479786c97cb5f34d07231c6d7c602a47",
     "grade": false,
     "grade_id": "cell-741fd55ea57cd40a",
     "locked": true,
     "schema_version": 3,
     "solution": false
    }
   },
   "outputs": [],
   "source": [
    "def plot_optional():\n",
    "    import matplotlib as plt\n",
    "    %matplotlib inline\n",
    "    Top15 = answer_one()\n",
    "    ax = Top15.plot(x='Rank', y='% Renewable', kind='scatter', \n",
    "                    c=['#e41a1c','#377eb8','#e41a1c','#4daf4a','#4daf4a','#377eb8','#4daf4a','#e41a1c',\n",
    "                       '#4daf4a','#e41a1c','#4daf4a','#4daf4a','#e41a1c','#dede00','#ff7f00'], \n",
    "                    xticks=range(1,16), s=6*Top15['2014']/10**10, alpha=.75, figsize=[16,6]);\n",
    "\n",
    "    for i, txt in enumerate(Top15.index):\n",
    "        ax.annotate(txt, [Top15['Rank'][i], Top15['% Renewable'][i]], ha='center')\n",
    "\n",
    "    print(\"This is an example of a visualization that can be created to help understand the data. \\\n",
    "This is a bubble chart showing % Renewable vs. Rank. The size of the bubble corresponds to the countries' \\\n",
    "2014 GDP, and the color corresponds to the continent.\")"
   ]
  }
 ],
 "metadata": {
  "anaconda-cloud": {},
  "kernelspec": {
   "display_name": "Python 3 (ipykernel)",
   "language": "python",
   "name": "python3"
  },
  "language_info": {
   "codemirror_mode": {
    "name": "ipython",
    "version": 3
   },
   "file_extension": ".py",
   "mimetype": "text/x-python",
   "name": "python",
   "nbconvert_exporter": "python",
   "pygments_lexer": "ipython3",
   "version": "3.9.13"
  }
 },
 "nbformat": 4,
 "nbformat_minor": 4
}
